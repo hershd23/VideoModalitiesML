{
 "cells": [
  {
   "cell_type": "code",
   "execution_count": 1,
   "metadata": {},
   "outputs": [],
   "source": [
    "from sklearn.ensemble import RandomForestRegressor, RandomForestClassifier\n",
    "from sklearn.metrics import mean_absolute_error, r2_score, f1_score\n",
    "from sklearn.linear_model import LinearRegression, SGDClassifier\n",
    "from sklearn.svm import SVC,SVR\n",
    "from sklearn import preprocessing\n",
    "\n",
    "import matplotlib.pyplot as plt\n",
    "import pandas as pd\n",
    "import numpy as np\n",
    "import pickle"
   ]
  },
  {
   "cell_type": "markdown",
   "metadata": {},
   "source": [
    "# Loading audio data"
   ]
  },
  {
   "cell_type": "code",
   "execution_count": 2,
   "metadata": {},
   "outputs": [],
   "source": [
    "aud_train = pd.read_csv('../audio/pickle_files/training_df_all_dur_15.csv')\n",
    "aud_test = pd.read_csv('../audio/pickle_files/test_df_all_dur_15.csv')\n",
    "aud_val = pd.read_csv('../audio/pickle_files/validation_df_all_dur_15.csv')\n",
    "\n",
    "traits = ['interview_score', 'openness', 'conscientiousness', 'extraversion', 'agreeableness', 'neuroticism']\n",
    "attributes = aud_train.columns\n",
    "\n",
    "id_aud_train = aud_train['video_id'].values\n",
    "X_aud_train = aud_train.drop(traits + ['video_id'], axis=1).values\n",
    "Y_aud_train = aud_train[traits].values\n",
    "\n",
    "id_aud_test = aud_test['video_id'].values\n",
    "X_aud_test = aud_test.drop(traits + ['video_id'], axis=1).values\n",
    "Y_aud_test = aud_test[traits].values\n",
    "\n",
    "id_aud_val = aud_val['video_id'].values\n",
    "X_aud_val = aud_val.drop(traits + ['video_id'], axis=1).values\n",
    "Y_aud_val = aud_val[traits].values\n",
    "\n",
    "# No hyperparameter to tune\n",
    "X_train = np.concatenate((X_aud_train, X_aud_val))\n",
    "Y_train = np.concatenate((Y_aud_train, Y_aud_val))\n",
    "\n",
    "X_test = X_aud_test\n",
    "Y_test = Y_aud_test\n",
    "\n",
    "# Feature Scaling\n",
    "scaler = preprocessing.StandardScaler()\n",
    "X_train = scaler.fit_transform(X_train)\n",
    "X_test = scaler.transform(X_test)"
   ]
  },
  {
   "cell_type": "markdown",
   "metadata": {},
   "source": [
    "## Linear Regression Model"
   ]
  },
  {
   "cell_type": "code",
   "execution_count": 3,
   "metadata": {},
   "outputs": [
    {
     "name": "stdout",
     "output_type": "stream",
     "text": [
      "\n",
      "R2 score\n",
      "\n",
      "interview_score : 0.2070\n",
      "openness : 0.2199\n",
      "conscientiousness : 0.1853\n",
      "extraversion : 0.2168\n",
      "agreeableness : 0.1198\n",
      "neuroticism : 0.2389\n",
      "\n",
      "Accuracies\n",
      "\n",
      "interview_score : 0.8959\n",
      "openness : 0.8982\n",
      "conscientiousness : 0.8896\n",
      "extraversion : 0.8934\n",
      "agreeableness : 0.9009\n",
      "neuroticism : 0.8939\n"
     ]
    }
   ],
   "source": [
    "linear_regressor = LinearRegression(n_jobs= -1)\n",
    "linear_regressor.fit(X_train, Y_train)\n",
    "y_test_pred = linear_regressor.predict(X_test)\n",
    "\n",
    "print(\"\\nR2 score\\n\")\n",
    "score = r2_score(Y_test, y_test_pred, multioutput = 'raw_values')\n",
    "for i in range(6):                 \n",
    "    print(traits[i],\": {:.4f}\".format(score[i]))\n",
    "    \n",
    "print(\"\\nAccuracies\\n\")\n",
    "for i in range(6):                 \n",
    "    print(traits[i],\": {:.4f}\".format(1 - mean_absolute_error(Y_test[:,i], y_test_pred[:,i])))"
   ]
  },
  {
   "cell_type": "markdown",
   "metadata": {},
   "source": [
    "## Random Forest Regressor Model"
   ]
  },
  {
   "cell_type": "code",
   "execution_count": 4,
   "metadata": {},
   "outputs": [
    {
     "name": "stdout",
     "output_type": "stream",
     "text": [
      "\n",
      "R2 score\n",
      "\n",
      "interview_score : 0.3324\n",
      "openness : 0.3205\n",
      "conscientiousness : 0.3202\n",
      "extraversion : 0.3208\n",
      "agreeableness : 0.2189\n",
      "neuroticism : 0.3415\n",
      "\n",
      "Accuracies\n",
      "\n",
      "interview_score : 0.9044\n",
      "openness : 0.9039\n",
      "conscientiousness : 0.8986\n",
      "extraversion : 0.9000\n",
      "agreeableness : 0.9055\n",
      "neuroticism : 0.9001\n"
     ]
    }
   ],
   "source": [
    "rand_forest_regr = RandomForestRegressor(n_jobs=-1)\n",
    "rand_forest_regr.fit(X_train, Y_train)\n",
    "y_test_pred = rand_forest_regr.predict(X_test)\n",
    "\n",
    "print(\"\\nR2 score\\n\")\n",
    "score = r2_score(Y_test, y_test_pred, multioutput = 'raw_values')\n",
    "for i in range(6):                 \n",
    "    print(traits[i],\": {:.4f}\".format(score[i]))\n",
    "    \n",
    "print(\"\\nAccuracies\\n\")\n",
    "for i in range(6):                 \n",
    "    print(traits[i],\": {:.4f}\".format(1 - mean_absolute_error(Y_test[:,i], y_test_pred[:,i])))"
   ]
  }
 ],
 "metadata": {
  "kernelspec": {
   "display_name": "Python 3",
   "language": "python",
   "name": "python3"
  },
  "language_info": {
   "codemirror_mode": {
    "name": "ipython",
    "version": 3
   },
   "file_extension": ".py",
   "mimetype": "text/x-python",
   "name": "python",
   "nbconvert_exporter": "python",
   "pygments_lexer": "ipython3",
   "version": "3.7.7"
  }
 },
 "nbformat": 4,
 "nbformat_minor": 2
}
