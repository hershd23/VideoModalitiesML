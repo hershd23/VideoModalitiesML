{
  "nbformat": 4,
  "nbformat_minor": 0,
  "metadata": {
    "colab": {
      "name": "Copy of TextAnalysis.ipynb",
      "provenance": [],
      "collapsed_sections": [
        "0y0aV241bWTo"
      ],
      "toc_visible": true
    },
    "kernelspec": {
      "name": "python3",
      "display_name": "Python 3"
    },
    "accelerator": "GPU"
  },
  "cells": [
    {
      "cell_type": "markdown",
      "metadata": {
        "id": "7hZWme_IbPj6",
        "colab_type": "text"
      },
      "source": [
        "# Mounting Drive"
      ]
    },
    {
      "cell_type": "code",
      "metadata": {
        "id": "Zraasg0uaqcC",
        "colab_type": "code",
        "outputId": "96dbd83b-c0e7-4bcc-a94a-3ad82603a841",
        "colab": {
          "base_uri": "https://localhost:8080/",
          "height": 124
        }
      },
      "source": [
        "from google.colab import drive\n",
        "drive.mount('/content/drive')"
      ],
      "execution_count": 0,
      "outputs": [
        {
          "output_type": "stream",
          "text": [
            "Go to this URL in a browser: https://accounts.google.com/o/oauth2/auth?client_id=947318989803-6bn6qk8qdgf4n4g3pfee6491hc0brc4i.apps.googleusercontent.com&redirect_uri=urn%3aietf%3awg%3aoauth%3a2.0%3aoob&response_type=code&scope=email%20https%3a%2f%2fwww.googleapis.com%2fauth%2fdocs.test%20https%3a%2f%2fwww.googleapis.com%2fauth%2fdrive%20https%3a%2f%2fwww.googleapis.com%2fauth%2fdrive.photos.readonly%20https%3a%2f%2fwww.googleapis.com%2fauth%2fpeopleapi.readonly\n",
            "\n",
            "Enter your authorization code:\n",
            "··········\n",
            "Mounted at /content/drive\n"
          ],
          "name": "stdout"
        }
      ]
    },
    {
      "cell_type": "code",
      "metadata": {
        "id": "oZ7D3h79a5JU",
        "colab_type": "code",
        "outputId": "f4b789e2-fc98-4f06-b4ba-255da980f81c",
        "colab": {
          "base_uri": "https://localhost:8080/",
          "height": 35
        }
      },
      "source": [
        "cd drive/My\\ Drive/first_impressions_data"
      ],
      "execution_count": 0,
      "outputs": [
        {
          "output_type": "stream",
          "text": [
            "/content/drive/My Drive/first_impressions_data\n"
          ],
          "name": "stdout"
        }
      ]
    },
    {
      "cell_type": "markdown",
      "metadata": {
        "id": "0y0aV241bWTo",
        "colab_type": "text"
      },
      "source": [
        "# File handling"
      ]
    },
    {
      "cell_type": "markdown",
      "metadata": {
        "id": "vwJTR_1SAsxZ",
        "colab_type": "text"
      },
      "source": [
        "## Imports"
      ]
    },
    {
      "cell_type": "code",
      "metadata": {
        "id": "vRDj3NiXa72P",
        "colab_type": "code",
        "colab": {}
      },
      "source": [
        "import pickle\n",
        "import pandas as pd\n",
        "import numpy as np"
      ],
      "execution_count": 0,
      "outputs": []
    },
    {
      "cell_type": "code",
      "metadata": {
        "id": "Go62bnQvbHHw",
        "colab_type": "code",
        "colab": {}
      },
      "source": [
        "training_annotations = pd.read_pickle(\"./annotations/annotation_training.pkl\")\n",
        "validation_annotations = pd.read_pickle(\"./annotations/annotation_validation.pkl\")\n",
        "test_annotations = pd.read_pickle(\"./annotations/annotation_test.pkl\")\n",
        "\n",
        "training_transcriptions = pd.read_pickle(\"./transcriptions/transcription_training.pkl\")\n",
        "validation_transcriptions = pd.read_pickle(\"./transcriptions/transcription_validation.pkl\")\n",
        "test_transcriptions = pd.read_pickle(\"./transcriptions/transcription_test.pkl\")"
      ],
      "execution_count": 0,
      "outputs": []
    },
    {
      "cell_type": "code",
      "metadata": {
        "id": "3poEef7scweN",
        "colab_type": "code",
        "colab": {}
      },
      "source": [
        "annotation_cols = ['name', 'openness', 'conscientiousness', 'extraversion', 'agreeableness', 'neuroticism', 'interview']\n",
        "\n",
        "training_annotations_df = pd.DataFrame(columns=annotation_cols)\n",
        "validation_annotations_df = pd.DataFrame(columns=annotation_cols)\n",
        "test_annotations_df = pd.DataFrame(columns=annotation_cols)\n",
        "\n",
        "transcription_cols = ['name', 'transcript']\n",
        "\n",
        "training_transcriptions_df = pd.DataFrame(columns=transcription_cols)\n",
        "validation_transcriptions_df = pd.DataFrame(columns=transcription_cols)\n",
        "test_transcriptions_df = pd.DataFrame(columns=transcription_cols)"
      ],
      "execution_count": 0,
      "outputs": []
    },
    {
      "cell_type": "code",
      "metadata": {
        "id": "1k7T5S75hCRP",
        "colab_type": "code",
        "outputId": "a403c24b-b18c-4be2-e7e6-c10142001b53",
        "colab": {
          "base_uri": "https://localhost:8080/",
          "height": 444
        }
      },
      "source": [
        "training_annotations_df['name'] = training_annotations['openness'].keys()\n",
        "training_annotations_df['openness'] = training_annotations['openness'].values()\n",
        "training_annotations_df['conscientiousness'] = training_annotations['conscientiousness'].values()\n",
        "training_annotations_df['extraversion'] = training_annotations['extraversion'].values()\n",
        "training_annotations_df['agreeableness'] = training_annotations['agreeableness'].values()\n",
        "training_annotations_df['neuroticism'] = training_annotations['neuroticism'].values()\n",
        "training_annotations_df['interview'] = training_annotations['interview'].values()\n",
        "\n",
        "training_annotations_df"
      ],
      "execution_count": 0,
      "outputs": [
        {
          "output_type": "execute_result",
          "data": {
            "text/html": [
              "<div>\n",
              "<style scoped>\n",
              "    .dataframe tbody tr th:only-of-type {\n",
              "        vertical-align: middle;\n",
              "    }\n",
              "\n",
              "    .dataframe tbody tr th {\n",
              "        vertical-align: top;\n",
              "    }\n",
              "\n",
              "    .dataframe thead th {\n",
              "        text-align: right;\n",
              "    }\n",
              "</style>\n",
              "<table border=\"1\" class=\"dataframe\">\n",
              "  <thead>\n",
              "    <tr style=\"text-align: right;\">\n",
              "      <th></th>\n",
              "      <th>name</th>\n",
              "      <th>openness</th>\n",
              "      <th>conscientiousness</th>\n",
              "      <th>extraversion</th>\n",
              "      <th>agreeableness</th>\n",
              "      <th>neuroticism</th>\n",
              "      <th>interview</th>\n",
              "    </tr>\n",
              "  </thead>\n",
              "  <tbody>\n",
              "    <tr>\n",
              "      <th>0</th>\n",
              "      <td>J4GQm9j0JZ0.003.mp4</td>\n",
              "      <td>0.488889</td>\n",
              "      <td>0.601942</td>\n",
              "      <td>0.523364</td>\n",
              "      <td>0.626374</td>\n",
              "      <td>0.552083</td>\n",
              "      <td>0.504673</td>\n",
              "    </tr>\n",
              "    <tr>\n",
              "      <th>1</th>\n",
              "      <td>zEyRyTnIw5I.005.mp4</td>\n",
              "      <td>0.366667</td>\n",
              "      <td>0.582524</td>\n",
              "      <td>0.345794</td>\n",
              "      <td>0.472527</td>\n",
              "      <td>0.375000</td>\n",
              "      <td>0.457944</td>\n",
              "    </tr>\n",
              "    <tr>\n",
              "      <th>2</th>\n",
              "      <td>nskJh7v6v1U.004.mp4</td>\n",
              "      <td>0.511111</td>\n",
              "      <td>0.485437</td>\n",
              "      <td>0.252336</td>\n",
              "      <td>0.406593</td>\n",
              "      <td>0.291667</td>\n",
              "      <td>0.373832</td>\n",
              "    </tr>\n",
              "    <tr>\n",
              "      <th>3</th>\n",
              "      <td>6wHQsN5g2RM.000.mp4</td>\n",
              "      <td>0.377778</td>\n",
              "      <td>0.398058</td>\n",
              "      <td>0.457944</td>\n",
              "      <td>0.505495</td>\n",
              "      <td>0.489583</td>\n",
              "      <td>0.457944</td>\n",
              "    </tr>\n",
              "    <tr>\n",
              "      <th>4</th>\n",
              "      <td>dQOeQYWIgm8.000.mp4</td>\n",
              "      <td>0.622222</td>\n",
              "      <td>0.621359</td>\n",
              "      <td>0.607477</td>\n",
              "      <td>0.406593</td>\n",
              "      <td>0.489583</td>\n",
              "      <td>0.570093</td>\n",
              "    </tr>\n",
              "    <tr>\n",
              "      <th>...</th>\n",
              "      <td>...</td>\n",
              "      <td>...</td>\n",
              "      <td>...</td>\n",
              "      <td>...</td>\n",
              "      <td>...</td>\n",
              "      <td>...</td>\n",
              "      <td>...</td>\n",
              "    </tr>\n",
              "    <tr>\n",
              "      <th>5995</th>\n",
              "      <td>Eh7WRYXVh9M.000.mp4</td>\n",
              "      <td>0.544444</td>\n",
              "      <td>0.621359</td>\n",
              "      <td>0.523364</td>\n",
              "      <td>0.626374</td>\n",
              "      <td>0.479167</td>\n",
              "      <td>0.588785</td>\n",
              "    </tr>\n",
              "    <tr>\n",
              "      <th>5996</th>\n",
              "      <td>2q8orkMs2Jg.003.mp4</td>\n",
              "      <td>0.822222</td>\n",
              "      <td>0.524272</td>\n",
              "      <td>0.728972</td>\n",
              "      <td>0.582418</td>\n",
              "      <td>0.760417</td>\n",
              "      <td>0.616822</td>\n",
              "    </tr>\n",
              "    <tr>\n",
              "      <th>5997</th>\n",
              "      <td>F1lAPYh4t3U.000.mp4</td>\n",
              "      <td>0.788889</td>\n",
              "      <td>0.699029</td>\n",
              "      <td>0.700935</td>\n",
              "      <td>0.747253</td>\n",
              "      <td>0.770833</td>\n",
              "      <td>0.691589</td>\n",
              "    </tr>\n",
              "    <tr>\n",
              "      <th>5998</th>\n",
              "      <td>cxJ0u6r0-pU.001.mp4</td>\n",
              "      <td>0.588889</td>\n",
              "      <td>0.679612</td>\n",
              "      <td>0.317757</td>\n",
              "      <td>0.582418</td>\n",
              "      <td>0.531250</td>\n",
              "      <td>0.616822</td>\n",
              "    </tr>\n",
              "    <tr>\n",
              "      <th>5999</th>\n",
              "      <td>hfUH9Am-Izs.000.mp4</td>\n",
              "      <td>0.588889</td>\n",
              "      <td>0.543689</td>\n",
              "      <td>0.401869</td>\n",
              "      <td>0.461538</td>\n",
              "      <td>0.500000</td>\n",
              "      <td>0.429907</td>\n",
              "    </tr>\n",
              "  </tbody>\n",
              "</table>\n",
              "<p>6000 rows × 7 columns</p>\n",
              "</div>"
            ],
            "text/plain": [
              "                     name  openness  ...  neuroticism  interview\n",
              "0     J4GQm9j0JZ0.003.mp4  0.488889  ...     0.552083   0.504673\n",
              "1     zEyRyTnIw5I.005.mp4  0.366667  ...     0.375000   0.457944\n",
              "2     nskJh7v6v1U.004.mp4  0.511111  ...     0.291667   0.373832\n",
              "3     6wHQsN5g2RM.000.mp4  0.377778  ...     0.489583   0.457944\n",
              "4     dQOeQYWIgm8.000.mp4  0.622222  ...     0.489583   0.570093\n",
              "...                   ...       ...  ...          ...        ...\n",
              "5995  Eh7WRYXVh9M.000.mp4  0.544444  ...     0.479167   0.588785\n",
              "5996  2q8orkMs2Jg.003.mp4  0.822222  ...     0.760417   0.616822\n",
              "5997  F1lAPYh4t3U.000.mp4  0.788889  ...     0.770833   0.691589\n",
              "5998  cxJ0u6r0-pU.001.mp4  0.588889  ...     0.531250   0.616822\n",
              "5999  hfUH9Am-Izs.000.mp4  0.588889  ...     0.500000   0.429907\n",
              "\n",
              "[6000 rows x 7 columns]"
            ]
          },
          "metadata": {
            "tags": []
          },
          "execution_count": 52
        }
      ]
    },
    {
      "cell_type": "code",
      "metadata": {
        "id": "bGMPo5o8bHL9",
        "colab_type": "code",
        "outputId": "6fdaf780-a131-481b-839c-641a26abfb0c",
        "colab": {
          "base_uri": "https://localhost:8080/",
          "height": 444
        }
      },
      "source": [
        "validation_annotations_df['name'] = validation_annotations['openness'].keys()\n",
        "validation_annotations_df['openness'] = validation_annotations['openness'].values()\n",
        "validation_annotations_df['conscientiousness'] = validation_annotations['conscientiousness'].values()\n",
        "validation_annotations_df['extraversion'] = validation_annotations['extraversion'].values()\n",
        "validation_annotations_df['agreeableness'] = validation_annotations['agreeableness'].values()\n",
        "validation_annotations_df['neuroticism'] = validation_annotations['neuroticism'].values()\n",
        "validation_annotations_df['interview'] = validation_annotations['interview'].values()\n",
        "\n",
        "validation_annotations_df"
      ],
      "execution_count": 0,
      "outputs": [
        {
          "output_type": "execute_result",
          "data": {
            "text/html": [
              "<div>\n",
              "<style scoped>\n",
              "    .dataframe tbody tr th:only-of-type {\n",
              "        vertical-align: middle;\n",
              "    }\n",
              "\n",
              "    .dataframe tbody tr th {\n",
              "        vertical-align: top;\n",
              "    }\n",
              "\n",
              "    .dataframe thead th {\n",
              "        text-align: right;\n",
              "    }\n",
              "</style>\n",
              "<table border=\"1\" class=\"dataframe\">\n",
              "  <thead>\n",
              "    <tr style=\"text-align: right;\">\n",
              "      <th></th>\n",
              "      <th>name</th>\n",
              "      <th>openness</th>\n",
              "      <th>conscientiousness</th>\n",
              "      <th>extraversion</th>\n",
              "      <th>agreeableness</th>\n",
              "      <th>neuroticism</th>\n",
              "      <th>interview</th>\n",
              "    </tr>\n",
              "  </thead>\n",
              "  <tbody>\n",
              "    <tr>\n",
              "      <th>0</th>\n",
              "      <td>modNfUPt3F4.002.mp4</td>\n",
              "      <td>0.555556</td>\n",
              "      <td>0.640777</td>\n",
              "      <td>0.644860</td>\n",
              "      <td>0.615385</td>\n",
              "      <td>0.593750</td>\n",
              "      <td>0.616822</td>\n",
              "    </tr>\n",
              "    <tr>\n",
              "      <th>1</th>\n",
              "      <td>h6LOjpCRXtY.005.mp4</td>\n",
              "      <td>0.411111</td>\n",
              "      <td>0.572816</td>\n",
              "      <td>0.439252</td>\n",
              "      <td>0.417582</td>\n",
              "      <td>0.520833</td>\n",
              "      <td>0.439252</td>\n",
              "    </tr>\n",
              "    <tr>\n",
              "      <th>2</th>\n",
              "      <td>WER4ww680QQ.004.mp4</td>\n",
              "      <td>0.555556</td>\n",
              "      <td>0.398058</td>\n",
              "      <td>0.457944</td>\n",
              "      <td>0.428571</td>\n",
              "      <td>0.312500</td>\n",
              "      <td>0.373832</td>\n",
              "    </tr>\n",
              "    <tr>\n",
              "      <th>3</th>\n",
              "      <td>c4XnKouozXU.002.mp4</td>\n",
              "      <td>0.322222</td>\n",
              "      <td>0.553398</td>\n",
              "      <td>0.364486</td>\n",
              "      <td>0.527473</td>\n",
              "      <td>0.572917</td>\n",
              "      <td>0.523364</td>\n",
              "    </tr>\n",
              "    <tr>\n",
              "      <th>4</th>\n",
              "      <td>OEKg-Tvwcbk.002.mp4</td>\n",
              "      <td>0.477778</td>\n",
              "      <td>0.417476</td>\n",
              "      <td>0.345794</td>\n",
              "      <td>0.516484</td>\n",
              "      <td>0.468750</td>\n",
              "      <td>0.383178</td>\n",
              "    </tr>\n",
              "    <tr>\n",
              "      <th>...</th>\n",
              "      <td>...</td>\n",
              "      <td>...</td>\n",
              "      <td>...</td>\n",
              "      <td>...</td>\n",
              "      <td>...</td>\n",
              "      <td>...</td>\n",
              "      <td>...</td>\n",
              "    </tr>\n",
              "    <tr>\n",
              "      <th>1995</th>\n",
              "      <td>3LAaFUSGvsU.000.mp4</td>\n",
              "      <td>0.577778</td>\n",
              "      <td>0.689320</td>\n",
              "      <td>0.570093</td>\n",
              "      <td>0.494505</td>\n",
              "      <td>0.614583</td>\n",
              "      <td>0.626168</td>\n",
              "    </tr>\n",
              "    <tr>\n",
              "      <th>1996</th>\n",
              "      <td>n2BuwHbdilY.000.mp4</td>\n",
              "      <td>0.666667</td>\n",
              "      <td>0.669903</td>\n",
              "      <td>0.542056</td>\n",
              "      <td>0.549451</td>\n",
              "      <td>0.541667</td>\n",
              "      <td>0.579439</td>\n",
              "    </tr>\n",
              "    <tr>\n",
              "      <th>1997</th>\n",
              "      <td>GcuoyJPO-KU.003.mp4</td>\n",
              "      <td>0.644444</td>\n",
              "      <td>0.572816</td>\n",
              "      <td>0.551402</td>\n",
              "      <td>0.560440</td>\n",
              "      <td>0.593750</td>\n",
              "      <td>0.504673</td>\n",
              "    </tr>\n",
              "    <tr>\n",
              "      <th>1998</th>\n",
              "      <td>uf_sIIw4zxY.004.mp4</td>\n",
              "      <td>0.733333</td>\n",
              "      <td>0.572816</td>\n",
              "      <td>0.514019</td>\n",
              "      <td>0.461538</td>\n",
              "      <td>0.552083</td>\n",
              "      <td>0.551402</td>\n",
              "    </tr>\n",
              "    <tr>\n",
              "      <th>1999</th>\n",
              "      <td>jd9_8OPxM3A.003.mp4</td>\n",
              "      <td>0.666667</td>\n",
              "      <td>0.621359</td>\n",
              "      <td>0.560748</td>\n",
              "      <td>0.725275</td>\n",
              "      <td>0.635417</td>\n",
              "      <td>0.635514</td>\n",
              "    </tr>\n",
              "  </tbody>\n",
              "</table>\n",
              "<p>2000 rows × 7 columns</p>\n",
              "</div>"
            ],
            "text/plain": [
              "                     name  openness  ...  neuroticism  interview\n",
              "0     modNfUPt3F4.002.mp4  0.555556  ...     0.593750   0.616822\n",
              "1     h6LOjpCRXtY.005.mp4  0.411111  ...     0.520833   0.439252\n",
              "2     WER4ww680QQ.004.mp4  0.555556  ...     0.312500   0.373832\n",
              "3     c4XnKouozXU.002.mp4  0.322222  ...     0.572917   0.523364\n",
              "4     OEKg-Tvwcbk.002.mp4  0.477778  ...     0.468750   0.383178\n",
              "...                   ...       ...  ...          ...        ...\n",
              "1995  3LAaFUSGvsU.000.mp4  0.577778  ...     0.614583   0.626168\n",
              "1996  n2BuwHbdilY.000.mp4  0.666667  ...     0.541667   0.579439\n",
              "1997  GcuoyJPO-KU.003.mp4  0.644444  ...     0.593750   0.504673\n",
              "1998  uf_sIIw4zxY.004.mp4  0.733333  ...     0.552083   0.551402\n",
              "1999  jd9_8OPxM3A.003.mp4  0.666667  ...     0.635417   0.635514\n",
              "\n",
              "[2000 rows x 7 columns]"
            ]
          },
          "metadata": {
            "tags": []
          },
          "execution_count": 53
        }
      ]
    },
    {
      "cell_type": "code",
      "metadata": {
        "id": "uG_GyYF2bHRM",
        "colab_type": "code",
        "outputId": "74924571-f7d1-4a83-fc95-1556c4b80a22",
        "colab": {
          "base_uri": "https://localhost:8080/",
          "height": 444
        }
      },
      "source": [
        "test_annotations_df['name'] = test_annotations['openness'].keys()\n",
        "test_annotations_df['openness'] = test_annotations['openness'].values()\n",
        "test_annotations_df['conscientiousness'] = test_annotations['conscientiousness'].values()\n",
        "test_annotations_df['extraversion'] = test_annotations['extraversion'].values()\n",
        "test_annotations_df['agreeableness'] = test_annotations['agreeableness'].values()\n",
        "test_annotations_df['neuroticism'] = test_annotations['neuroticism'].values()\n",
        "test_annotations_df['interview'] = test_annotations['interview'].values()\n",
        "\n",
        "test_annotations_df"
      ],
      "execution_count": 0,
      "outputs": [
        {
          "output_type": "execute_result",
          "data": {
            "text/html": [
              "<div>\n",
              "<style scoped>\n",
              "    .dataframe tbody tr th:only-of-type {\n",
              "        vertical-align: middle;\n",
              "    }\n",
              "\n",
              "    .dataframe tbody tr th {\n",
              "        vertical-align: top;\n",
              "    }\n",
              "\n",
              "    .dataframe thead th {\n",
              "        text-align: right;\n",
              "    }\n",
              "</style>\n",
              "<table border=\"1\" class=\"dataframe\">\n",
              "  <thead>\n",
              "    <tr style=\"text-align: right;\">\n",
              "      <th></th>\n",
              "      <th>name</th>\n",
              "      <th>openness</th>\n",
              "      <th>conscientiousness</th>\n",
              "      <th>extraversion</th>\n",
              "      <th>agreeableness</th>\n",
              "      <th>neuroticism</th>\n",
              "      <th>interview</th>\n",
              "    </tr>\n",
              "  </thead>\n",
              "  <tbody>\n",
              "    <tr>\n",
              "      <th>0</th>\n",
              "      <td>htH89DBizno.004.mp4</td>\n",
              "      <td>0.822222</td>\n",
              "      <td>0.669903</td>\n",
              "      <td>0.485981</td>\n",
              "      <td>0.681319</td>\n",
              "      <td>0.645833</td>\n",
              "      <td>0.626168</td>\n",
              "    </tr>\n",
              "    <tr>\n",
              "      <th>1</th>\n",
              "      <td>p_wf-KszNlk.001.mp4</td>\n",
              "      <td>0.655556</td>\n",
              "      <td>0.514563</td>\n",
              "      <td>0.616822</td>\n",
              "      <td>0.692308</td>\n",
              "      <td>0.593750</td>\n",
              "      <td>0.570093</td>\n",
              "    </tr>\n",
              "    <tr>\n",
              "      <th>2</th>\n",
              "      <td>MuYYY3XaJ7Q.001.mp4</td>\n",
              "      <td>0.522222</td>\n",
              "      <td>0.524272</td>\n",
              "      <td>0.467290</td>\n",
              "      <td>0.560440</td>\n",
              "      <td>0.625000</td>\n",
              "      <td>0.514019</td>\n",
              "    </tr>\n",
              "    <tr>\n",
              "      <th>3</th>\n",
              "      <td>0MB91ku0eEw.005.mp4</td>\n",
              "      <td>0.400000</td>\n",
              "      <td>0.660194</td>\n",
              "      <td>0.411215</td>\n",
              "      <td>0.714286</td>\n",
              "      <td>0.458333</td>\n",
              "      <td>0.570093</td>\n",
              "    </tr>\n",
              "    <tr>\n",
              "      <th>4</th>\n",
              "      <td>WpEZOSrENL0.003.mp4</td>\n",
              "      <td>0.411111</td>\n",
              "      <td>0.524272</td>\n",
              "      <td>0.317757</td>\n",
              "      <td>0.384615</td>\n",
              "      <td>0.437500</td>\n",
              "      <td>0.448598</td>\n",
              "    </tr>\n",
              "    <tr>\n",
              "      <th>...</th>\n",
              "      <td>...</td>\n",
              "      <td>...</td>\n",
              "      <td>...</td>\n",
              "      <td>...</td>\n",
              "      <td>...</td>\n",
              "      <td>...</td>\n",
              "      <td>...</td>\n",
              "    </tr>\n",
              "    <tr>\n",
              "      <th>1995</th>\n",
              "      <td>NzCflfxgvwo.001.mp4</td>\n",
              "      <td>0.300000</td>\n",
              "      <td>0.135922</td>\n",
              "      <td>0.289720</td>\n",
              "      <td>0.208791</td>\n",
              "      <td>0.312500</td>\n",
              "      <td>0.177570</td>\n",
              "    </tr>\n",
              "    <tr>\n",
              "      <th>1996</th>\n",
              "      <td>ch2BcBv4SdQ.003.mp4</td>\n",
              "      <td>0.722222</td>\n",
              "      <td>0.572816</td>\n",
              "      <td>0.719626</td>\n",
              "      <td>0.670330</td>\n",
              "      <td>0.781250</td>\n",
              "      <td>0.728972</td>\n",
              "    </tr>\n",
              "    <tr>\n",
              "      <th>1997</th>\n",
              "      <td>It0-yCwOc5k.001.mp4</td>\n",
              "      <td>0.677778</td>\n",
              "      <td>0.446602</td>\n",
              "      <td>0.355140</td>\n",
              "      <td>0.472527</td>\n",
              "      <td>0.395833</td>\n",
              "      <td>0.411215</td>\n",
              "    </tr>\n",
              "    <tr>\n",
              "      <th>1998</th>\n",
              "      <td>1Wh2mIFrGvk.000.mp4</td>\n",
              "      <td>0.622222</td>\n",
              "      <td>0.669903</td>\n",
              "      <td>0.467290</td>\n",
              "      <td>0.527473</td>\n",
              "      <td>0.645833</td>\n",
              "      <td>0.560748</td>\n",
              "    </tr>\n",
              "    <tr>\n",
              "      <th>1999</th>\n",
              "      <td>a97PXgrKSxo.002.mp4</td>\n",
              "      <td>0.588889</td>\n",
              "      <td>0.728155</td>\n",
              "      <td>0.654206</td>\n",
              "      <td>0.813187</td>\n",
              "      <td>0.635417</td>\n",
              "      <td>0.654206</td>\n",
              "    </tr>\n",
              "  </tbody>\n",
              "</table>\n",
              "<p>2000 rows × 7 columns</p>\n",
              "</div>"
            ],
            "text/plain": [
              "                     name  openness  ...  neuroticism  interview\n",
              "0     htH89DBizno.004.mp4  0.822222  ...     0.645833   0.626168\n",
              "1     p_wf-KszNlk.001.mp4  0.655556  ...     0.593750   0.570093\n",
              "2     MuYYY3XaJ7Q.001.mp4  0.522222  ...     0.625000   0.514019\n",
              "3     0MB91ku0eEw.005.mp4  0.400000  ...     0.458333   0.570093\n",
              "4     WpEZOSrENL0.003.mp4  0.411111  ...     0.437500   0.448598\n",
              "...                   ...       ...  ...          ...        ...\n",
              "1995  NzCflfxgvwo.001.mp4  0.300000  ...     0.312500   0.177570\n",
              "1996  ch2BcBv4SdQ.003.mp4  0.722222  ...     0.781250   0.728972\n",
              "1997  It0-yCwOc5k.001.mp4  0.677778  ...     0.395833   0.411215\n",
              "1998  1Wh2mIFrGvk.000.mp4  0.622222  ...     0.645833   0.560748\n",
              "1999  a97PXgrKSxo.002.mp4  0.588889  ...     0.635417   0.654206\n",
              "\n",
              "[2000 rows x 7 columns]"
            ]
          },
          "metadata": {
            "tags": []
          },
          "execution_count": 54
        }
      ]
    },
    {
      "cell_type": "code",
      "metadata": {
        "id": "ecS_6FaEqly2",
        "colab_type": "code",
        "outputId": "97847c04-b446-4da6-82d5-b45e0343e807",
        "colab": {
          "base_uri": "https://localhost:8080/",
          "height": 424
        }
      },
      "source": [
        "training_transcriptions_df['name'] = training_transcriptions.keys()\n",
        "training_transcriptions_df['transcript'] = training_transcriptions.values()\n",
        "training_transcriptions_df"
      ],
      "execution_count": 0,
      "outputs": [
        {
          "output_type": "execute_result",
          "data": {
            "text/html": [
              "<div>\n",
              "<style scoped>\n",
              "    .dataframe tbody tr th:only-of-type {\n",
              "        vertical-align: middle;\n",
              "    }\n",
              "\n",
              "    .dataframe tbody tr th {\n",
              "        vertical-align: top;\n",
              "    }\n",
              "\n",
              "    .dataframe thead th {\n",
              "        text-align: right;\n",
              "    }\n",
              "</style>\n",
              "<table border=\"1\" class=\"dataframe\">\n",
              "  <thead>\n",
              "    <tr style=\"text-align: right;\">\n",
              "      <th></th>\n",
              "      <th>name</th>\n",
              "      <th>transcript</th>\n",
              "    </tr>\n",
              "  </thead>\n",
              "  <tbody>\n",
              "    <tr>\n",
              "      <th>0</th>\n",
              "      <td>J4GQm9j0JZ0.003.mp4</td>\n",
              "      <td>He's cutting it and then turn around and see t...</td>\n",
              "    </tr>\n",
              "    <tr>\n",
              "      <th>1</th>\n",
              "      <td>zEyRyTnIw5I.005.mp4</td>\n",
              "      <td>Responsibility to house the organ I had been g...</td>\n",
              "    </tr>\n",
              "    <tr>\n",
              "      <th>2</th>\n",
              "      <td>nskJh7v6v1U.004.mp4</td>\n",
              "      <td>I actually got quite a few sets of black pens ...</td>\n",
              "    </tr>\n",
              "    <tr>\n",
              "      <th>3</th>\n",
              "      <td>6wHQsN5g2RM.000.mp4</td>\n",
              "      <td>I ate a lot. I'd like a lot of foods. I rememb...</td>\n",
              "    </tr>\n",
              "    <tr>\n",
              "      <th>4</th>\n",
              "      <td>dQOeQYWIgm8.000.mp4</td>\n",
              "      <td>Now I'll ask you guys to leave a question in t...</td>\n",
              "    </tr>\n",
              "    <tr>\n",
              "      <th>...</th>\n",
              "      <td>...</td>\n",
              "      <td>...</td>\n",
              "    </tr>\n",
              "    <tr>\n",
              "      <th>5995</th>\n",
              "      <td>mhF4kYTlVUE.001.mp4</td>\n",
              "      <td>I got to see a lot, got to experience a lot. Y...</td>\n",
              "    </tr>\n",
              "    <tr>\n",
              "      <th>5996</th>\n",
              "      <td>2q8orkMs2Jg.003.mp4</td>\n",
              "      <td>Really, really love my job, love the people I ...</td>\n",
              "    </tr>\n",
              "    <tr>\n",
              "      <th>5997</th>\n",
              "      <td>F1lAPYh4t3U.000.mp4</td>\n",
              "      <td>I have a nine-to-five. I said this in my last ...</td>\n",
              "    </tr>\n",
              "    <tr>\n",
              "      <th>5998</th>\n",
              "      <td>cxJ0u6r0-pU.001.mp4</td>\n",
              "      <td>You want to be working with and who you want t...</td>\n",
              "    </tr>\n",
              "    <tr>\n",
              "      <th>5999</th>\n",
              "      <td>hfUH9Am-Izs.000.mp4</td>\n",
              "      <td>No, but, it's really hard to explain. It reall...</td>\n",
              "    </tr>\n",
              "  </tbody>\n",
              "</table>\n",
              "<p>6000 rows × 2 columns</p>\n",
              "</div>"
            ],
            "text/plain": [
              "                     name                                         transcript\n",
              "0     J4GQm9j0JZ0.003.mp4  He's cutting it and then turn around and see t...\n",
              "1     zEyRyTnIw5I.005.mp4  Responsibility to house the organ I had been g...\n",
              "2     nskJh7v6v1U.004.mp4  I actually got quite a few sets of black pens ...\n",
              "3     6wHQsN5g2RM.000.mp4  I ate a lot. I'd like a lot of foods. I rememb...\n",
              "4     dQOeQYWIgm8.000.mp4  Now I'll ask you guys to leave a question in t...\n",
              "...                   ...                                                ...\n",
              "5995  mhF4kYTlVUE.001.mp4  I got to see a lot, got to experience a lot. Y...\n",
              "5996  2q8orkMs2Jg.003.mp4  Really, really love my job, love the people I ...\n",
              "5997  F1lAPYh4t3U.000.mp4  I have a nine-to-five. I said this in my last ...\n",
              "5998  cxJ0u6r0-pU.001.mp4  You want to be working with and who you want t...\n",
              "5999  hfUH9Am-Izs.000.mp4  No, but, it's really hard to explain. It reall...\n",
              "\n",
              "[6000 rows x 2 columns]"
            ]
          },
          "metadata": {
            "tags": []
          },
          "execution_count": 55
        }
      ]
    },
    {
      "cell_type": "code",
      "metadata": {
        "id": "YmBYkGJlqmA7",
        "colab_type": "code",
        "outputId": "23c1d7c8-aeb4-422e-f0d8-369f7a9c1753",
        "colab": {
          "base_uri": "https://localhost:8080/",
          "height": 424
        }
      },
      "source": [
        "validation_transcriptions_df['name'] = validation_transcriptions.keys()\n",
        "validation_transcriptions_df['transcript'] = validation_transcriptions.values()\n",
        "validation_transcriptions_df"
      ],
      "execution_count": 0,
      "outputs": [
        {
          "output_type": "execute_result",
          "data": {
            "text/html": [
              "<div>\n",
              "<style scoped>\n",
              "    .dataframe tbody tr th:only-of-type {\n",
              "        vertical-align: middle;\n",
              "    }\n",
              "\n",
              "    .dataframe tbody tr th {\n",
              "        vertical-align: top;\n",
              "    }\n",
              "\n",
              "    .dataframe thead th {\n",
              "        text-align: right;\n",
              "    }\n",
              "</style>\n",
              "<table border=\"1\" class=\"dataframe\">\n",
              "  <thead>\n",
              "    <tr style=\"text-align: right;\">\n",
              "      <th></th>\n",
              "      <th>name</th>\n",
              "      <th>transcript</th>\n",
              "    </tr>\n",
              "  </thead>\n",
              "  <tbody>\n",
              "    <tr>\n",
              "      <th>0</th>\n",
              "      <td>LNM1i-a9q_A.005.mp4</td>\n",
              "      <td>[inaudible 00:00:16] and then I will do the vo...</td>\n",
              "    </tr>\n",
              "    <tr>\n",
              "      <th>1</th>\n",
              "      <td>n6JNJurop2U.005.mp4</td>\n",
              "      <td>Personality is A1, I like you. So that is all ...</td>\n",
              "    </tr>\n",
              "    <tr>\n",
              "      <th>2</th>\n",
              "      <td>WER4ww680QQ.004.mp4</td>\n",
              "      <td>Ewe. But yeah, some people been asking me if I...</td>\n",
              "    </tr>\n",
              "    <tr>\n",
              "      <th>3</th>\n",
              "      <td>c4XnKouozXU.002.mp4</td>\n",
              "      <td>I am a makeup artist, I am an aesthetician, I ...</td>\n",
              "    </tr>\n",
              "    <tr>\n",
              "      <th>4</th>\n",
              "      <td>OEKg-Tvwcbk.002.mp4</td>\n",
              "      <td>Sucks. When he agrees, yeah. It just sucks bec...</td>\n",
              "    </tr>\n",
              "    <tr>\n",
              "      <th>...</th>\n",
              "      <td>...</td>\n",
              "      <td>...</td>\n",
              "    </tr>\n",
              "    <tr>\n",
              "      <th>1995</th>\n",
              "      <td>3LAaFUSGvsU.000.mp4</td>\n",
              "      <td>Really qualified to. The guy who last week was...</td>\n",
              "    </tr>\n",
              "    <tr>\n",
              "      <th>1996</th>\n",
              "      <td>n2BuwHbdilY.000.mp4</td>\n",
              "      <td>Wearing scarfs on the second date. Okay, so no...</td>\n",
              "    </tr>\n",
              "    <tr>\n",
              "      <th>1997</th>\n",
              "      <td>GcuoyJPO-KU.003.mp4</td>\n",
              "      <td>\"How do you manage to do things with someone? ...</td>\n",
              "    </tr>\n",
              "    <tr>\n",
              "      <th>1998</th>\n",
              "      <td>uf_sIIw4zxY.004.mp4</td>\n",
              "      <td>-I sell. No. Sophie Loveland, \"Will you be pos...</td>\n",
              "    </tr>\n",
              "    <tr>\n",
              "      <th>1999</th>\n",
              "      <td>jd9_8OPxM3A.003.mp4</td>\n",
              "      <td>-to live together and to create a world where ...</td>\n",
              "    </tr>\n",
              "  </tbody>\n",
              "</table>\n",
              "<p>2000 rows × 2 columns</p>\n",
              "</div>"
            ],
            "text/plain": [
              "                     name                                         transcript\n",
              "0     LNM1i-a9q_A.005.mp4  [inaudible 00:00:16] and then I will do the vo...\n",
              "1     n6JNJurop2U.005.mp4  Personality is A1, I like you. So that is all ...\n",
              "2     WER4ww680QQ.004.mp4  Ewe. But yeah, some people been asking me if I...\n",
              "3     c4XnKouozXU.002.mp4  I am a makeup artist, I am an aesthetician, I ...\n",
              "4     OEKg-Tvwcbk.002.mp4  Sucks. When he agrees, yeah. It just sucks bec...\n",
              "...                   ...                                                ...\n",
              "1995  3LAaFUSGvsU.000.mp4  Really qualified to. The guy who last week was...\n",
              "1996  n2BuwHbdilY.000.mp4  Wearing scarfs on the second date. Okay, so no...\n",
              "1997  GcuoyJPO-KU.003.mp4  \"How do you manage to do things with someone? ...\n",
              "1998  uf_sIIw4zxY.004.mp4  -I sell. No. Sophie Loveland, \"Will you be pos...\n",
              "1999  jd9_8OPxM3A.003.mp4  -to live together and to create a world where ...\n",
              "\n",
              "[2000 rows x 2 columns]"
            ]
          },
          "metadata": {
            "tags": []
          },
          "execution_count": 56
        }
      ]
    },
    {
      "cell_type": "code",
      "metadata": {
        "id": "TgXk-ZPrqmKB",
        "colab_type": "code",
        "outputId": "7f23007d-34a8-46d5-d61f-d989dc5769b5",
        "colab": {
          "base_uri": "https://localhost:8080/",
          "height": 424
        }
      },
      "source": [
        "test_transcriptions_df['name'] = test_transcriptions.keys()\n",
        "test_transcriptions_df['transcript'] = test_transcriptions.values()\n",
        "test_transcriptions_df"
      ],
      "execution_count": 0,
      "outputs": [
        {
          "output_type": "execute_result",
          "data": {
            "text/html": [
              "<div>\n",
              "<style scoped>\n",
              "    .dataframe tbody tr th:only-of-type {\n",
              "        vertical-align: middle;\n",
              "    }\n",
              "\n",
              "    .dataframe tbody tr th {\n",
              "        vertical-align: top;\n",
              "    }\n",
              "\n",
              "    .dataframe thead th {\n",
              "        text-align: right;\n",
              "    }\n",
              "</style>\n",
              "<table border=\"1\" class=\"dataframe\">\n",
              "  <thead>\n",
              "    <tr style=\"text-align: right;\">\n",
              "      <th></th>\n",
              "      <th>name</th>\n",
              "      <th>transcript</th>\n",
              "    </tr>\n",
              "  </thead>\n",
              "  <tbody>\n",
              "    <tr>\n",
              "      <th>0</th>\n",
              "      <td>htH89DBizno.004.mp4</td>\n",
              "      <td>... Going nuts from another room, run in there...</td>\n",
              "    </tr>\n",
              "    <tr>\n",
              "      <th>1</th>\n",
              "      <td>p_wf-KszNlk.001.mp4</td>\n",
              "      <td>I've got a little bit to go but we need you th...</td>\n",
              "    </tr>\n",
              "    <tr>\n",
              "      <th>2</th>\n",
              "      <td>MuYYY3XaJ7Q.001.mp4</td>\n",
              "      <td>A video's quality over quantity, so everyone c...</td>\n",
              "    </tr>\n",
              "    <tr>\n",
              "      <th>3</th>\n",
              "      <td>0MB91ku0eEw.005.mp4</td>\n",
              "      <td>You really want to. That's made things a lot e...</td>\n",
              "    </tr>\n",
              "    <tr>\n",
              "      <th>4</th>\n",
              "      <td>WpEZOSrENL0.003.mp4</td>\n",
              "      <td>That's perfectly okay. The point isn't actuall...</td>\n",
              "    </tr>\n",
              "    <tr>\n",
              "      <th>...</th>\n",
              "      <td>...</td>\n",
              "      <td>...</td>\n",
              "    </tr>\n",
              "    <tr>\n",
              "      <th>1995</th>\n",
              "      <td>NzCflfxgvwo.001.mp4</td>\n",
              "      <td>Du du du. No, that's not why I made this video...</td>\n",
              "    </tr>\n",
              "    <tr>\n",
              "      <th>1996</th>\n",
              "      <td>ch2BcBv4SdQ.003.mp4</td>\n",
              "      <td>They do it all the time.</td>\n",
              "    </tr>\n",
              "    <tr>\n",
              "      <th>1997</th>\n",
              "      <td>It0-yCwOc5k.001.mp4</td>\n",
              "      <td>Comfortable and I don't want anyone to feel un...</td>\n",
              "    </tr>\n",
              "    <tr>\n",
              "      <th>1998</th>\n",
              "      <td>1Wh2mIFrGvk.000.mp4</td>\n",
              "      <td>You're not giving yourself enough calories to ...</td>\n",
              "    </tr>\n",
              "    <tr>\n",
              "      <th>1999</th>\n",
              "      <td>a97PXgrKSxo.002.mp4</td>\n",
              "      <td>Eat enough carbs, eat more fats to get in more...</td>\n",
              "    </tr>\n",
              "  </tbody>\n",
              "</table>\n",
              "<p>2000 rows × 2 columns</p>\n",
              "</div>"
            ],
            "text/plain": [
              "                     name                                         transcript\n",
              "0     htH89DBizno.004.mp4  ... Going nuts from another room, run in there...\n",
              "1     p_wf-KszNlk.001.mp4  I've got a little bit to go but we need you th...\n",
              "2     MuYYY3XaJ7Q.001.mp4  A video's quality over quantity, so everyone c...\n",
              "3     0MB91ku0eEw.005.mp4  You really want to. That's made things a lot e...\n",
              "4     WpEZOSrENL0.003.mp4  That's perfectly okay. The point isn't actuall...\n",
              "...                   ...                                                ...\n",
              "1995  NzCflfxgvwo.001.mp4  Du du du. No, that's not why I made this video...\n",
              "1996  ch2BcBv4SdQ.003.mp4                           They do it all the time.\n",
              "1997  It0-yCwOc5k.001.mp4  Comfortable and I don't want anyone to feel un...\n",
              "1998  1Wh2mIFrGvk.000.mp4  You're not giving yourself enough calories to ...\n",
              "1999  a97PXgrKSxo.002.mp4  Eat enough carbs, eat more fats to get in more...\n",
              "\n",
              "[2000 rows x 2 columns]"
            ]
          },
          "metadata": {
            "tags": []
          },
          "execution_count": 57
        }
      ]
    },
    {
      "cell_type": "markdown",
      "metadata": {
        "id": "AvuxbrHOrSiv",
        "colab_type": "text"
      },
      "source": [
        "## Merging and saving tables"
      ]
    },
    {
      "cell_type": "code",
      "metadata": {
        "id": "GICP-CJkrR9B",
        "colab_type": "code",
        "colab": {}
      },
      "source": [
        "training_df = pd.merge(training_annotations_df, training_transcriptions_df, on='name')\n",
        "validation_df = pd.merge(validation_annotations_df, validation_transcriptions_df, on='name')\n",
        "test_df = pd.merge(test_annotations_df, test_transcriptions_df, on='name')"
      ],
      "execution_count": 0,
      "outputs": []
    },
    {
      "cell_type": "code",
      "metadata": {
        "id": "yOZX1q45tZW7",
        "colab_type": "code",
        "colab": {}
      },
      "source": [
        "training_df.to_csv('./transcriptions/training_df.csv', index=False)\n",
        "validation_df.to_csv('./transcriptions/validation_df.csv', index=False)\n",
        "test_df.to_csv('./transcriptions/test_df.csv', index=False)"
      ],
      "execution_count": 0,
      "outputs": []
    },
    {
      "cell_type": "markdown",
      "metadata": {
        "id": "n7I2fEWAAlXZ",
        "colab_type": "text"
      },
      "source": [
        "# Pytorch Imports"
      ]
    },
    {
      "cell_type": "code",
      "metadata": {
        "id": "PEUAd_coabrQ",
        "colab_type": "code",
        "colab": {}
      },
      "source": [
        "import pickle\n",
        "import pandas as pd\n",
        "import numpy as np\n",
        "\n",
        "import torch\n",
        "import torch.nn as nn\n",
        "import torch.nn.functional as F\n",
        "from torch.autograd import Variable"
      ],
      "execution_count": 0,
      "outputs": []
    },
    {
      "cell_type": "markdown",
      "metadata": {
        "id": "47W9rvst0Kld",
        "colab_type": "text"
      },
      "source": [
        "# Model"
      ]
    },
    {
      "cell_type": "code",
      "metadata": {
        "id": "7u1R9-qyai_k",
        "colab_type": "code",
        "colab": {}
      },
      "source": [
        "class BiLSTM(nn.Module):\n",
        "    def __init__(self, vocab_size, hidden_dim, emb_dim, out_dim, pretrained_vec):\n",
        "        super().__init__()\n",
        "        self.embedding = nn.Embedding(vocab_size, emb_dim)\n",
        "        self.embedding.weight.data.copy_(pretrained_vec) #load pretrained vec\n",
        "        self.embedding.weight.requires_grad = False #make embedding non-trainable    \n",
        "        self.encoder = nn.LSTM(emb_dim, hidden_dim, num_layers=1, dropout=0.2, bidirectional=True)\n",
        "        self.linear = nn.Linear(hidden_dim*2, hidden_dim)\n",
        "        self.predictor = nn.Linear(hidden_dim, out_dim)\n",
        "        self.relu = nn.ReLU()\n",
        "        self.sig = nn.Sigmoid()\n",
        "    \n",
        "    def forward(self, seq):\n",
        "        emb = self.embedding(seq)\n",
        "        hdn, _ = self.encoder(emb) #initial h0, c0 is zero. _ : (hn,cn), hdn=output features for each timestep\n",
        "        #print (seq.shape, emb.shape, hdn.shape)\n",
        "        feature = hdn[-1, :, :] #take the last timestep of the encoder output\n",
        "\n",
        "        feature = self.linear(feature)\n",
        "        feature = self.relu(feature)\n",
        "        preds = self.predictor(feature)\n",
        "        preds = self.sig(preds)\n",
        "        #print (preds.shape)\n",
        "        return preds"
      ],
      "execution_count": 0,
      "outputs": []
    },
    {
      "cell_type": "markdown",
      "metadata": {
        "id": "6CerpsSS0OEj",
        "colab_type": "text"
      },
      "source": [
        "# Data Processing"
      ]
    },
    {
      "cell_type": "code",
      "metadata": {
        "id": "O28z48WaK7m7",
        "colab_type": "code",
        "colab": {}
      },
      "source": [
        "from torchtext.data import Field\n",
        "\n",
        "tokenize = lambda x: x.split()\n",
        "#lowercased, whitespace-tokenized, and preprocessed\n",
        "TEXT = Field(sequential=True, tokenize=tokenize, lower=True)\n",
        "#labels is numeric already\n",
        "LABEL = Field(sequential=False, use_vocab=False, dtype= torch.float)"
      ],
      "execution_count": 0,
      "outputs": []
    },
    {
      "cell_type": "code",
      "metadata": {
        "id": "ryfi2V1lLMpd",
        "colab_type": "code",
        "colab": {}
      },
      "source": [
        "from torchtext.data import TabularDataset\n",
        "trvld_datafields = [(\"name\", None),\n",
        "                (\"openness\", LABEL),\n",
        "                (\"conscientiousness\", LABEL), (\"extraversion\", LABEL),\n",
        "                (\"agreeableness\", LABEL), (\"neuroticism\", LABEL),\n",
        "                (\"interview\", LABEL),(\"transcript\", TEXT)]\n",
        "\n",
        "trn, vld = TabularDataset.splits(\n",
        "            path=\"transcriptions\",\n",
        "            train=\"training_df.csv\", validation=\"validation_df.csv\",\n",
        "            format=\"csv\", skip_header=True,\n",
        "            fields=trvld_datafields)"
      ],
      "execution_count": 0,
      "outputs": []
    },
    {
      "cell_type": "code",
      "metadata": {
        "id": "NOE0y3iYL6xW",
        "colab_type": "code",
        "colab": {}
      },
      "source": [
        "tst = TabularDataset(\n",
        "        path=\"transcriptions/test_df.csv\", format=\"csv\", skip_header=True, fields=trvld_datafields)"
      ],
      "execution_count": 0,
      "outputs": []
    },
    {
      "cell_type": "code",
      "metadata": {
        "id": "T7dLLdxrMgqR",
        "colab_type": "code",
        "outputId": "5847b234-476a-4ca8-c8d0-8c2c28b2d6ff",
        "colab": {
          "base_uri": "https://localhost:8080/",
          "height": 35
        }
      },
      "source": [
        "print ('size of the train, dev, test dataset:', len(trn), len(vld), len(tst))"
      ],
      "execution_count": 0,
      "outputs": [
        {
          "output_type": "stream",
          "text": [
            "size of the train, dev, test dataset: 6000 2000 2000\n"
          ],
          "name": "stdout"
        }
      ]
    },
    {
      "cell_type": "markdown",
      "metadata": {
        "id": "2QhOe1eJ0SOH",
        "colab_type": "text"
      },
      "source": [
        "## Vocabulary building"
      ]
    },
    {
      "cell_type": "code",
      "metadata": {
        "id": "PzY79dngMj2n",
        "colab_type": "code",
        "outputId": "0ce3404b-7093-4579-9240-d34dcd15ca58",
        "colab": {
          "base_uri": "https://localhost:8080/",
          "height": 72
        }
      },
      "source": [
        "from torchtext import vocab\n",
        "vec = vocab.Vectors('./glove.6B.50d.txt', './')\n",
        "TEXT.build_vocab(trn, vld, tst, max_size=15000, vectors=vec)\n",
        "print ('size of the vocab and embedding dim:', TEXT.vocab.vectors.shape)# (max vocab size+2 for <unk> and <pad>, and glove vector dim=50)\n",
        "print ('index of the in the vocab:', TEXT.vocab.stoi['the']) \n",
        "print ('index 0 in the vocab:', TEXT.vocab.itos[0]) #output:<unk>, so the index 0 in vocab is for '<unk>'"
      ],
      "execution_count": 0,
      "outputs": [
        {
          "output_type": "stream",
          "text": [
            "size of the vocab and embedding dim: torch.Size([15002, 50])\n",
            "index of the in the vocab: 5\n",
            "index 0 in the vocab: <unk>\n"
          ],
          "name": "stdout"
        }
      ]
    },
    {
      "cell_type": "markdown",
      "metadata": {
        "id": "HUoVPLsN0Xt2",
        "colab_type": "text"
      },
      "source": [
        "## Making DataLoader objects"
      ]
    },
    {
      "cell_type": "code",
      "metadata": {
        "id": "ASuJ_RUjOQuO",
        "colab_type": "code",
        "colab": {}
      },
      "source": [
        "from torchtext.data import Iterator, BucketIterator\n",
        "train_iter, val_iter = BucketIterator.splits((trn, vld),\n",
        "                                            batch_sizes=(8,8),\n",
        "                                            device='cuda',\n",
        "                                            sort_key=lambda x: len(x.transcript), #tell the bucketIterator how to group the sequences\n",
        "                                            sort_within_batch=False,\n",
        "                                            repeat=False) #we want to wrap this Iterator layer"
      ],
      "execution_count": 0,
      "outputs": []
    },
    {
      "cell_type": "code",
      "metadata": {
        "id": "LDHA_v4mQYMj",
        "colab_type": "code",
        "outputId": "255ab730-3ca0-4001-a28f-8abb24b9e19a",
        "colab": {
          "base_uri": "https://localhost:8080/",
          "height": 35
        }
      },
      "source": [
        "test_iter = Iterator(tst, batch_size=1, device='cuda', sort=False, sort_within_batch=False, repeat=False)\n",
        "\n",
        "print ('number of batch (size: 8):', len(train_iter), len(val_iter), len(test_iter))"
      ],
      "execution_count": 0,
      "outputs": [
        {
          "output_type": "stream",
          "text": [
            "number of batch (size: 8): 750 250 2000\n"
          ],
          "name": "stdout"
        }
      ]
    },
    {
      "cell_type": "code",
      "metadata": {
        "id": "-HSwL6SZR9gd",
        "colab_type": "code",
        "colab": {}
      },
      "source": [
        "class BatchGenerator:\n",
        "    def __init__(self, dl, x, y):\n",
        "        self.dl, self.x, self.y = dl, x, y\n",
        "    def __len__(self):\n",
        "        return len(self.dl)\n",
        "    def __iter__(self):\n",
        "        for batch in self.dl:\n",
        "            X = getattr(batch, self.x) #assuming one input\n",
        "            if self.y is not None: #concat the y into single tensor\n",
        "                y = torch.cat([getattr(batch, feat).unsqueeze(1) for feat in self.y], dim=1).float()\n",
        "            else:\n",
        "                y = torch.zeros((1))\n",
        "            yield (X,y)"
      ],
      "execution_count": 0,
      "outputs": []
    },
    {
      "cell_type": "code",
      "metadata": {
        "id": "BPMrDk1RSEpG",
        "colab_type": "code",
        "colab": {}
      },
      "source": [
        "train_batch_it = BatchGenerator(train_iter, 'transcript', ['openness', 'conscientiousness', 'extraversion', 'agreeableness', 'neuroticism', 'interview'])\n",
        "valid_batch_it = BatchGenerator(val_iter, 'transcript', ['openness', 'conscientiousness', 'extraversion', 'agreeableness', 'neuroticism', 'interview'])\n",
        "test_batch_it = BatchGenerator(test_iter, 'transcript', ['openness', 'conscientiousness', 'extraversion', 'agreeableness', 'neuroticism', 'interview'])"
      ],
      "execution_count": 0,
      "outputs": []
    },
    {
      "cell_type": "markdown",
      "metadata": {
        "id": "EzjWRt_B0c4T",
        "colab_type": "text"
      },
      "source": [
        "# Model specifications"
      ]
    },
    {
      "cell_type": "code",
      "metadata": {
        "id": "urSEh1oxSHy5",
        "colab_type": "code",
        "colab": {}
      },
      "source": [
        "import torch.optim as optim\n",
        "import torch.nn as nn"
      ],
      "execution_count": 0,
      "outputs": []
    },
    {
      "cell_type": "code",
      "metadata": {
        "id": "cH8P4ca2SVkm",
        "colab_type": "code",
        "outputId": "12f73dcd-718f-4bcb-9380-093b3ee02b04",
        "colab": {
          "base_uri": "https://localhost:8080/",
          "height": 221
        }
      },
      "source": [
        "# model specifications\n",
        "vocab_size = len(TEXT.vocab)\n",
        "emb_dim = 50\n",
        "hidden_dim = 64\n",
        "out_dim = 6\n",
        "pretrained_vec = trn.fields['transcript'].vocab.vectors\n",
        "\n",
        "\n",
        "model = BiLSTM(vocab_size, hidden_dim, emb_dim, out_dim, pretrained_vec)\n",
        "model.cuda()"
      ],
      "execution_count": 29,
      "outputs": [
        {
          "output_type": "stream",
          "text": [
            "/usr/local/lib/python3.6/dist-packages/torch/nn/modules/rnn.py:50: UserWarning: dropout option adds dropout after all but last recurrent layer, so non-zero dropout expects num_layers greater than 1, but got dropout=0.2 and num_layers=1\n",
            "  \"num_layers={}\".format(dropout, num_layers))\n"
          ],
          "name": "stderr"
        },
        {
          "output_type": "execute_result",
          "data": {
            "text/plain": [
              "BiLSTM(\n",
              "  (embedding): Embedding(15002, 50)\n",
              "  (encoder): LSTM(50, 64, dropout=0.2, bidirectional=True)\n",
              "  (linear): Linear(in_features=128, out_features=64, bias=True)\n",
              "  (predictor): Linear(in_features=64, out_features=6, bias=True)\n",
              "  (relu): ReLU()\n",
              "  (sig): Sigmoid()\n",
              ")"
            ]
          },
          "metadata": {
            "tags": []
          },
          "execution_count": 29
        }
      ]
    },
    {
      "cell_type": "markdown",
      "metadata": {
        "id": "SmKEe1OD0i8x",
        "colab_type": "text"
      },
      "source": [
        "# Training the model"
      ]
    },
    {
      "cell_type": "code",
      "metadata": {
        "id": "Ri2fXThUSknz",
        "colab_type": "code",
        "colab": {}
      },
      "source": [
        "opt = optim.Adam(model.parameters(), lr=1e-6)\n",
        "criterion = nn.L1Loss(reduction = 'sum')\n",
        "epochs = 70\n",
        "train_loss = []\n",
        "valid_loss = []\n",
        "min_val_loss = 100000 # just a dummy"
      ],
      "execution_count": 0,
      "outputs": []
    },
    {
      "cell_type": "code",
      "metadata": {
        "id": "VA1svHqJSp6x",
        "colab_type": "code",
        "outputId": "c4479620-5db5-4e49-b89c-c9ece13a770e",
        "colab": {
          "base_uri": "https://localhost:8080/",
          "height": 1000
        }
      },
      "source": [
        "for epoch in range(1, epochs+1):\n",
        "    training_loss = 0.0\n",
        "    training_corrects = 0\n",
        "    model.train()\n",
        "    for x, y in train_batch_it:\n",
        "        opt.zero_grad()\n",
        "        preds = model(x)\n",
        "        loss = criterion(preds, y)\n",
        "        loss.backward()\n",
        "        opt.step()\n",
        "        training_loss += loss.item()\n",
        "    epoch_loss = training_loss/ len(trn)\n",
        "\n",
        "    val_loss = 0.0\n",
        "    model.eval()\n",
        "    for x,y in valid_batch_it:\n",
        "        preds = model(x)\n",
        "        loss = criterion(preds, y)\n",
        "        val_loss += loss.item()\n",
        "    val_loss /= len(vld)\n",
        "    train_loss.append(epoch_loss)\n",
        "    valid_loss.append(val_loss)\n",
        "    print ('Epoch: {}, Training loss: {:.4f}, Validation loss: {:.4f}'.format(epoch, epoch_loss, val_loss))\n",
        "    \n",
        "    if(val_loss < min_val_loss):\n",
        "      torch.save(model.state_dict(), './textLSTMbest.pth')\n",
        "      min_val_loss = val_loss\n",
        "      print(\"MODEL SAVED!!!\")"
      ],
      "execution_count": 31,
      "outputs": [
        {
          "output_type": "stream",
          "text": [
            "Epoch: 1, Training loss: 0.7460, Validation loss: 0.7275\n",
            "MODEL SAVED!!!\n",
            "Epoch: 2, Training loss: 0.7451, Validation loss: 0.7264\n",
            "MODEL SAVED!!!\n",
            "Epoch: 3, Training loss: 0.7442, Validation loss: 0.7253\n",
            "MODEL SAVED!!!\n",
            "Epoch: 4, Training loss: 0.7433, Validation loss: 0.7243\n",
            "MODEL SAVED!!!\n",
            "Epoch: 5, Training loss: 0.7425, Validation loss: 0.7233\n",
            "MODEL SAVED!!!\n",
            "Epoch: 6, Training loss: 0.7417, Validation loss: 0.7224\n",
            "MODEL SAVED!!!\n",
            "Epoch: 7, Training loss: 0.7409, Validation loss: 0.7215\n",
            "MODEL SAVED!!!\n",
            "Epoch: 8, Training loss: 0.7402, Validation loss: 0.7206\n",
            "MODEL SAVED!!!\n",
            "Epoch: 9, Training loss: 0.7395, Validation loss: 0.7197\n",
            "MODEL SAVED!!!\n",
            "Epoch: 10, Training loss: 0.7387, Validation loss: 0.7188\n",
            "MODEL SAVED!!!\n",
            "Epoch: 11, Training loss: 0.7380, Validation loss: 0.7180\n",
            "MODEL SAVED!!!\n",
            "Epoch: 12, Training loss: 0.7372, Validation loss: 0.7171\n",
            "MODEL SAVED!!!\n",
            "Epoch: 13, Training loss: 0.7365, Validation loss: 0.7162\n",
            "MODEL SAVED!!!\n",
            "Epoch: 14, Training loss: 0.7357, Validation loss: 0.7154\n",
            "MODEL SAVED!!!\n",
            "Epoch: 15, Training loss: 0.7350, Validation loss: 0.7145\n",
            "MODEL SAVED!!!\n",
            "Epoch: 16, Training loss: 0.7343, Validation loss: 0.7137\n",
            "MODEL SAVED!!!\n",
            "Epoch: 17, Training loss: 0.7336, Validation loss: 0.7130\n",
            "MODEL SAVED!!!\n",
            "Epoch: 18, Training loss: 0.7331, Validation loss: 0.7123\n",
            "MODEL SAVED!!!\n",
            "Epoch: 19, Training loss: 0.7323, Validation loss: 0.7116\n",
            "MODEL SAVED!!!\n",
            "Epoch: 20, Training loss: 0.7318, Validation loss: 0.7109\n",
            "MODEL SAVED!!!\n",
            "Epoch: 21, Training loss: 0.7312, Validation loss: 0.7102\n",
            "MODEL SAVED!!!\n",
            "Epoch: 22, Training loss: 0.7304, Validation loss: 0.7095\n",
            "MODEL SAVED!!!\n",
            "Epoch: 23, Training loss: 0.7298, Validation loss: 0.7088\n",
            "MODEL SAVED!!!\n",
            "Epoch: 24, Training loss: 0.7292, Validation loss: 0.7080\n",
            "MODEL SAVED!!!\n",
            "Epoch: 25, Training loss: 0.7288, Validation loss: 0.7073\n",
            "MODEL SAVED!!!\n",
            "Epoch: 26, Training loss: 0.7279, Validation loss: 0.7067\n",
            "MODEL SAVED!!!\n",
            "Epoch: 27, Training loss: 0.7275, Validation loss: 0.7060\n",
            "MODEL SAVED!!!\n",
            "Epoch: 28, Training loss: 0.7270, Validation loss: 0.7055\n",
            "MODEL SAVED!!!\n",
            "Epoch: 29, Training loss: 0.7263, Validation loss: 0.7049\n",
            "MODEL SAVED!!!\n",
            "Epoch: 30, Training loss: 0.7258, Validation loss: 0.7044\n",
            "MODEL SAVED!!!\n",
            "Epoch: 31, Training loss: 0.7250, Validation loss: 0.7038\n",
            "MODEL SAVED!!!\n",
            "Epoch: 32, Training loss: 0.7245, Validation loss: 0.7033\n",
            "MODEL SAVED!!!\n",
            "Epoch: 33, Training loss: 0.7238, Validation loss: 0.7028\n",
            "MODEL SAVED!!!\n",
            "Epoch: 34, Training loss: 0.7232, Validation loss: 0.7024\n",
            "MODEL SAVED!!!\n",
            "Epoch: 35, Training loss: 0.7228, Validation loss: 0.7020\n",
            "MODEL SAVED!!!\n",
            "Epoch: 36, Training loss: 0.7225, Validation loss: 0.7017\n",
            "MODEL SAVED!!!\n",
            "Epoch: 37, Training loss: 0.7211, Validation loss: 0.7015\n",
            "MODEL SAVED!!!\n",
            "Epoch: 38, Training loss: 0.7209, Validation loss: 0.7013\n",
            "MODEL SAVED!!!\n",
            "Epoch: 39, Training loss: 0.7208, Validation loss: 0.7011\n",
            "MODEL SAVED!!!\n",
            "Epoch: 40, Training loss: 0.7196, Validation loss: 0.7011\n",
            "MODEL SAVED!!!\n",
            "Epoch: 41, Training loss: 0.7193, Validation loss: 0.7011\n",
            "Epoch: 42, Training loss: 0.7187, Validation loss: 0.7011\n",
            "Epoch: 43, Training loss: 0.7185, Validation loss: 0.7013\n",
            "Epoch: 44, Training loss: 0.7181, Validation loss: 0.7015\n",
            "Epoch: 45, Training loss: 0.7172, Validation loss: 0.7018\n",
            "Epoch: 46, Training loss: 0.7163, Validation loss: 0.7022\n",
            "Epoch: 47, Training loss: 0.7153, Validation loss: 0.7028\n",
            "Epoch: 48, Training loss: 0.7153, Validation loss: 0.7034\n",
            "Epoch: 49, Training loss: 0.7148, Validation loss: 0.7041\n",
            "Epoch: 50, Training loss: 0.7141, Validation loss: 0.7050\n",
            "Epoch: 51, Training loss: 0.7139, Validation loss: 0.7058\n",
            "Epoch: 52, Training loss: 0.7146, Validation loss: 0.7067\n",
            "Epoch: 53, Training loss: 0.7135, Validation loss: 0.7077\n",
            "Epoch: 54, Training loss: 0.7128, Validation loss: 0.7088\n",
            "Epoch: 55, Training loss: 0.7121, Validation loss: 0.7099\n",
            "Epoch: 56, Training loss: 0.7130, Validation loss: 0.7109\n",
            "Epoch: 57, Training loss: 0.7124, Validation loss: 0.7120\n",
            "Epoch: 58, Training loss: 0.7110, Validation loss: 0.7133\n",
            "Epoch: 59, Training loss: 0.7117, Validation loss: 0.7144\n",
            "Epoch: 60, Training loss: 0.7113, Validation loss: 0.7156\n",
            "Epoch: 61, Training loss: 0.7120, Validation loss: 0.7166\n",
            "Epoch: 62, Training loss: 0.7110, Validation loss: 0.7179\n",
            "Epoch: 63, Training loss: 0.7112, Validation loss: 0.7189\n",
            "Epoch: 64, Training loss: 0.7099, Validation loss: 0.7202\n",
            "Epoch: 65, Training loss: 0.7092, Validation loss: 0.7214\n",
            "Epoch: 66, Training loss: 0.7099, Validation loss: 0.7226\n",
            "Epoch: 67, Training loss: 0.7098, Validation loss: 0.7237\n",
            "Epoch: 68, Training loss: 0.7103, Validation loss: 0.7246\n",
            "Epoch: 69, Training loss: 0.7092, Validation loss: 0.7257\n",
            "Epoch: 70, Training loss: 0.7098, Validation loss: 0.7266\n"
          ],
          "name": "stdout"
        }
      ]
    },
    {
      "cell_type": "markdown",
      "metadata": {
        "id": "-UxCSeGL0nZ2",
        "colab_type": "text"
      },
      "source": [
        "# Extract preds from the best model"
      ]
    },
    {
      "cell_type": "code",
      "metadata": {
        "id": "su5_unT_34PQ",
        "colab_type": "code",
        "outputId": "438a38d1-ba46-4ece-bd02-cc043f9f1377",
        "colab": {
          "base_uri": "https://localhost:8080/",
          "height": 35
        }
      },
      "source": [
        "model.load_state_dict(torch.load('./textLSTMbest.pth'))"
      ],
      "execution_count": 38,
      "outputs": [
        {
          "output_type": "execute_result",
          "data": {
            "text/plain": [
              "<All keys matched successfully>"
            ]
          },
          "metadata": {
            "tags": []
          },
          "execution_count": 38
        }
      ]
    },
    {
      "cell_type": "code",
      "metadata": {
        "id": "8XDuUuC2TBDj",
        "colab_type": "code",
        "colab": {}
      },
      "source": [
        "k = 0\n",
        "test_preds = np.zeros((2000, 6))\n",
        "test_labels = np.zeros((2000,6))\n",
        "model.eval()\n",
        "for x, y in test_batch_it:\n",
        "  if len(x) !=  0:\n",
        "    preds = model(x)\n",
        "    preds = preds.data.cpu().numpy()\n",
        "    test_preds[k] = preds\n",
        "  else:\n",
        "    preds = np.ones(6)\n",
        "    preds /= 2\n",
        "    test_preds[k] = preds\n",
        "  test_labels[k] = y.cpu().numpy()\n",
        "  k+=1\n"
      ],
      "execution_count": 0,
      "outputs": []
    },
    {
      "cell_type": "markdown",
      "metadata": {
        "id": "aDs-D3Mk0sqV",
        "colab_type": "text"
      },
      "source": [
        "# Final Evaluation"
      ]
    },
    {
      "cell_type": "code",
      "metadata": {
        "id": "OZ8tqN0wbG48",
        "colab_type": "code",
        "colab": {}
      },
      "source": [
        "from sklearn.metrics import mean_absolute_error"
      ],
      "execution_count": 0,
      "outputs": []
    },
    {
      "cell_type": "code",
      "metadata": {
        "id": "K2fUZ36Saz0I",
        "colab_type": "code",
        "outputId": "c45a9648-03f3-4d20-bd76-38339d23b1a8",
        "colab": {
          "base_uri": "https://localhost:8080/",
          "height": 127
        }
      },
      "source": [
        "for i in range(6):\n",
        "  print(1 - mean_absolute_error(test_labels[:, i], test_preds[:, i]))"
      ],
      "execution_count": 41,
      "outputs": [
        {
          "output_type": "stream",
          "text": [
            "0.8834216195717454\n",
            "0.8746977274678648\n",
            "0.8778640440991148\n",
            "0.8936294164061547\n",
            "0.8774410562575795\n",
            "0.8817883597025648\n"
          ],
          "name": "stdout"
        }
      ]
    },
    {
      "cell_type": "code",
      "metadata": {
        "id": "PxDqC1gGyVTL",
        "colab_type": "code",
        "colab": {
          "base_uri": "https://localhost:8080/",
          "height": 313
        },
        "outputId": "d2b17ca8-a8ba-4490-8144-3d5bb591105f"
      },
      "source": [
        "import matplotlib.pyplot as plt\n",
        "%matplotlib inline\n",
        "\n",
        "plt.title('model loss')\n",
        "plt.plot(train_loss)\n",
        "plt.plot(valid_loss)\n",
        "plt.ylabel('loss')\n",
        "plt.xlabel('epoch')\n",
        "plt.legend(['train', 'val'], loc='upper right')\n",
        "plt.show()\n",
        "\n",
        "plt.savefig('text_loss.png')"
      ],
      "execution_count": 45,
      "outputs": [
        {
          "output_type": "display_data",
          "data": {
            "image/png": "[encoded data removed]",
            "text/plain": [
              "<Figure size 432x288 with 1 Axes>"
            ]
          },
          "metadata": {
            "tags": [],
            "needs_background": "light"
          }
        },
        {
          "output_type": "display_data",
          "data": {
            "text/plain": [
              "<Figure size 432x288 with 0 Axes>"
            ]
          },
          "metadata": {
            "tags": []
          }
        }
      ]
    },
    {
      "cell_type": "code",
      "metadata": {
        "id": "g2TS6qM0BSZi",
        "colab_type": "code",
        "colab": {}
      },
      "source": [
        ""
      ],
      "execution_count": 0,
      "outputs": []
    }
  ]
}