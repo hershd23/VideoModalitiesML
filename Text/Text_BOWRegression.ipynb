{
  "nbformat": 4,
  "nbformat_minor": 0,
  "metadata": {
    "colab": {
      "name": "TranscriptRegression.ipynb",
      "provenance": [],
      "collapsed_sections": [
        "wm8sHJ-oZsVc",
        "BGQBfraBe6c4",
        "2f1RU_KMiSuj",
        "O7Z0ltTSjrj-",
        "RAIe49LBKBsy",
        "LQec3tmJKBtg",
        "33EH7vFdKBty",
        "qUTeZnFlKBuN",
        "uIXpWHQCKDqg",
        "ZkwGTokQKDrV",
        "bTn7OYBQKDrn",
        "EYdUMD4gKDsH",
        "6ucr8spXKFPe",
        "_HKybIgHKFQQ",
        "cjsrFmjTKFQh",
        "mj6zXxcoKFRC",
        "184VWePYKGZt",
        "R7fkxrV-KGaG",
        "8pz2b5yjKGaV",
        "Ec-K082CKGau",
        "mmFYKG8oKHh7",
        "Dek84ioEKHiL",
        "chrXMpoJKHiT"
      ],
      "toc_visible": true
    },
    "kernelspec": {
      "name": "python3",
      "display_name": "Python 3"
    }
  },
  "cells": [
    {
      "cell_type": "code",
      "metadata": {
        "id": "zp4o0oecpyQ7",
        "colab_type": "code",
        "outputId": "87c21550-7e43-4242-e442-643082d6468d",
        "colab": {
          "base_uri": "https://localhost:8080/",
          "height": 35
        }
      },
      "source": [
        "cd drive/My\\ Drive/first_impressions_data"
      ],
      "execution_count": 0,
      "outputs": [
        {
          "output_type": "stream",
          "text": [
            "/content/drive/My Drive/first_impressions_data\n"
          ],
          "name": "stdout"
        }
      ]
    },
    {
      "cell_type": "code",
      "metadata": {
        "id": "Vu0gGbFHp3WN",
        "colab_type": "code",
        "outputId": "7fa01ea7-0c06-4416-eb03-ff10bd09f137",
        "colab": {
          "base_uri": "https://localhost:8080/",
          "height": 35
        }
      },
      "source": [
        "cd transcriptions/"
      ],
      "execution_count": 0,
      "outputs": [
        {
          "output_type": "stream",
          "text": [
            "/content/drive/My Drive/first_impressions_data/transcriptions\n"
          ],
          "name": "stdout"
        }
      ]
    },
    {
      "cell_type": "markdown",
      "metadata": {
        "id": "vzB-nrv7iA37",
        "colab_type": "text"
      },
      "source": [
        "# Imports"
      ]
    },
    {
      "cell_type": "code",
      "metadata": {
        "id": "oumGawa8p7oB",
        "colab_type": "code",
        "outputId": "cd010f48-c580-4af5-9e1a-de01ec8b9035",
        "colab": {
          "base_uri": "https://localhost:8080/",
          "height": 146
        }
      },
      "source": [
        "import pandas as pd\n",
        "import numpy as np\n",
        "import nltk\n",
        "import random\n",
        "from nltk.classify.scikitlearn import SklearnClassifier\n",
        "import pickle\n",
        "from sklearn.svm import SVC\n",
        "from statistics import mode\n",
        "from nltk.tokenize import word_tokenize\n",
        "import re\n",
        "nltk.download('stopwords')\n",
        "nltk.download('punkt')\n",
        "nltk.download('averaged_perceptron_tagger')\n",
        "from sklearn.tree import DecisionTreeRegressor\n",
        "from sklearn.ensemble import RandomForestRegressor\n",
        "from sklearn.metrics import mean_absolute_error\n",
        "from sklearn.svm import SVR"
      ],
      "execution_count": 0,
      "outputs": [
        {
          "output_type": "stream",
          "text": [
            "[nltk_data] Downloading package stopwords to /root/nltk_data...\n",
            "[nltk_data]   Unzipping corpora/stopwords.zip.\n",
            "[nltk_data] Downloading package punkt to /root/nltk_data...\n",
            "[nltk_data]   Unzipping tokenizers/punkt.zip.\n",
            "[nltk_data] Downloading package averaged_perceptron_tagger to\n",
            "[nltk_data]     /root/nltk_data...\n",
            "[nltk_data]   Unzipping taggers/averaged_perceptron_tagger.zip.\n"
          ],
          "name": "stdout"
        }
      ]
    },
    {
      "cell_type": "markdown",
      "metadata": {
        "id": "5H7Dlax-kIW4",
        "colab_type": "text"
      },
      "source": [
        "# Loading in the CSV and values\n"
      ]
    },
    {
      "cell_type": "code",
      "metadata": {
        "id": "bIDqdbXsp-Z-",
        "colab_type": "code",
        "colab": {}
      },
      "source": [
        "training_df = pd.read_csv('training_df.csv')\n",
        "validation_df = pd.read_csv('validation_df.csv')\n",
        "test_df = pd.read_csv('test_df.csv')"
      ],
      "execution_count": 0,
      "outputs": []
    },
    {
      "cell_type": "code",
      "metadata": {
        "id": "YTfLfmQjqF3C",
        "colab_type": "code",
        "colab": {}
      },
      "source": [
        "training_data = training_df[['transcript', 'interview', 'openness', 'conscientiousness', 'extraversion', 'agreeableness', 'neuroticism']].values\n",
        "validation_data = validation_df[['transcript', 'interview', 'openness', 'conscientiousness', 'extraversion', 'agreeableness', 'neuroticism']].values\n",
        "test_data = test_df[['transcript', 'interview', 'openness', 'conscientiousness', 'extraversion', 'agreeableness', 'neuroticism']].values"
      ],
      "execution_count": 0,
      "outputs": []
    },
    {
      "cell_type": "code",
      "metadata": {
        "id": "dYxZzUI1iPhK",
        "colab_type": "code",
        "colab": {}
      },
      "source": [
        "training_iocean = training_data[:, 1:]\n",
        "validation_iocean = validation_data[:, 1:]\n",
        "test_iocean = test_data[:, 1:]"
      ],
      "execution_count": 0,
      "outputs": []
    },
    {
      "cell_type": "markdown",
      "metadata": {
        "id": "e6GlWT_BiO94",
        "colab_type": "text"
      },
      "source": [
        "# Cleaning text"
      ]
    },
    {
      "cell_type": "code",
      "metadata": {
        "id": "JCcU3VgqqJgg",
        "colab_type": "code",
        "outputId": "937f9a90-5890-4be2-aa6a-167a0ebd7d12",
        "colab": {
          "base_uri": "https://localhost:8080/",
          "height": 54
        }
      },
      "source": [
        "del_index = []\n",
        "for i in range(len(training_data)):\n",
        "  if not isinstance(training_data[i, 0], str):\n",
        "    del_index.append(i)\n",
        "\n",
        "training_data = np.delete(training_data, del_index, axis = 0)\n",
        "print(len(del_index))\n",
        "\n",
        "del_index = []\n",
        "for i in range(len(test_data)):\n",
        "  if not isinstance(test_data[i, 0], str):\n",
        "    del_index.append(i)\n",
        "\n",
        "test_data = np.delete(test_data, del_index, axis = 0)\n",
        "print(len(del_index))"
      ],
      "execution_count": 0,
      "outputs": [
        {
          "output_type": "stream",
          "text": [
            "8\n",
            "3\n"
          ],
          "name": "stdout"
        }
      ]
    },
    {
      "cell_type": "code",
      "metadata": {
        "id": "sGReatE2qMu2",
        "colab_type": "code",
        "outputId": "f5ee04a6-dbf6-44a2-85e4-be401998643b",
        "colab": {
          "base_uri": "https://localhost:8080/",
          "height": 276
        }
      },
      "source": [
        "print(len(training_data))\n",
        "print(len(validation_data))\n",
        "print(len(test_data))\n",
        "\n",
        "print(training_data[0])\n",
        "print(validation_data[0])\n",
        "print(test_data[0])\n",
        "\n",
        "complete_data = np.concatenate((training_data, validation_data), axis = 0)\n",
        "complete_data = np.concatenate((complete_data, test_data), axis = 0)\n",
        "\n",
        "print(complete_data.shape)"
      ],
      "execution_count": 0,
      "outputs": [
        {
          "output_type": "stream",
          "text": [
            "5992\n",
            "2000\n",
            "1997\n",
            "['He\\'s cutting it and then turn around and see the end result, but I\\'m glad he didn\\'t do that because I probably would\\'ve lost my mind. As it was getting cut, I was just excited. I saw the snippets of hair falling to the floor and I was like, \"Yes!\"'\n",
            " 0.5046728971962616 0.4888888888888889 0.6019417475728155\n",
            " 0.5233644859813085 0.6263736263736264 0.5520833333333334]\n",
            "[\"What is your favorite [sport 00:30] and why? And another one is do you ... I'll do the second question afterwards. So sports do I play. I played ... Now in my time, before I did YouTube, before I ended up-\"\n",
            " 0.616822429906542 0.5555555555555556 0.6407766990291262\n",
            " 0.6448598130841123 0.6153846153846153 0.59375]\n",
            "[\"... Going nuts from another room, run in there to check, there's no [inaudible 00:00:37], but it was like the [scissors 00:00:35] aren't there. Now maybe I'm just not sleeping enough that I moved the scissors somewhere, but I swear the-\"\n",
            " 0.6261682242990654 0.8222222222222221 0.6699029126213591\n",
            " 0.485981308411215 0.6813186813186812 0.6458333333333333]\n",
            "(9989, 7)\n"
          ],
          "name": "stdout"
        }
      ]
    },
    {
      "cell_type": "code",
      "metadata": {
        "id": "FWLDQsIYq08b",
        "colab_type": "code",
        "colab": {}
      },
      "source": [
        "all_words = []\n",
        "documents = []\n",
        "\n",
        "from nltk.corpus import stopwords\n",
        "import re\n",
        "\n",
        "stop_words = list(set(stopwords.words('english')))\n",
        "stop_words.append('inaudible')\n",
        "stop_words.append('du')\n",
        "\n",
        "#  j is adject, r is adverb, and v is verb\n",
        "#allowed_word_types = [\"J\",\"R\",\"V\"]\n",
        "allowed_word_types = [\"J\", \"V\",\"R\", \"N\"]\n",
        "\n",
        "k = 0\n",
        "\n",
        "for p in complete_data:\n",
        "    \n",
        "    # create a list of tuples where the first element of each tuple is a review\n",
        "    # the second element is the label\n",
        "    \n",
        "    # remove punctuations\n",
        "\n",
        "    p[0] = p[0].lower()\n",
        "\n",
        "    cleaned = re.sub(r'[^(a-zA-Z)\\s]','', p[0])\n",
        "    \n",
        "    # tokenize \n",
        "    tokenized = word_tokenize(cleaned)\n",
        "    \n",
        "    # remove stopwords \n",
        "    stopped = [w for w in tokenized if not w in stop_words]\n",
        "    \n",
        "    # parts of speech tagging for each word \n",
        "    part_of_speech = nltk.pos_tag(stopped)\n",
        "    \n",
        "    # make a list of  all adjectives identified by the allowed word types list above\n",
        "    for w in part_of_speech:\n",
        "        if w[1][0] in allowed_word_types:\n",
        "            all_words.append(w[0].lower())"
      ],
      "execution_count": 0,
      "outputs": []
    },
    {
      "cell_type": "markdown",
      "metadata": {
        "id": "48BUdNTWkRa-",
        "colab_type": "text"
      },
      "source": [
        "# Save top 5000 words as features"
      ]
    },
    {
      "cell_type": "code",
      "metadata": {
        "id": "SRYsRkC7rj43",
        "colab_type": "code",
        "outputId": "62775717-6227-4936-9650-2fce033043c7",
        "colab": {
          "base_uri": "https://localhost:8080/",
          "height": 35
        }
      },
      "source": [
        "BOW = nltk.FreqDist(all_words)\n",
        "word_features = list(BOW.keys())[:5000]\n",
        "word_features[0], word_features[-1]"
      ],
      "execution_count": 0,
      "outputs": [
        {
          "output_type": "execute_result",
          "data": {
            "text/plain": [
              "('hes', 'leaker')"
            ]
          },
          "metadata": {
            "tags": []
          },
          "execution_count": 10
        }
      ]
    },
    {
      "cell_type": "code",
      "metadata": {
        "id": "yvnCrlWttGBI",
        "colab_type": "code",
        "colab": {}
      },
      "source": [
        "save_word_features = open(\"word_features5k.pickle\",\"wb\")\n",
        "pickle.dump(word_features, save_word_features)\n",
        "save_word_features.close()"
      ],
      "execution_count": 0,
      "outputs": []
    },
    {
      "cell_type": "markdown",
      "metadata": {
        "id": "oKw6RtZ9kWC5",
        "colab_type": "text"
      },
      "source": [
        "# Form features"
      ]
    },
    {
      "cell_type": "code",
      "metadata": {
        "id": "nhlBLx8JtJis",
        "colab_type": "code",
        "outputId": "14ca53c9-3e8b-457e-8303-a32e339f49e1",
        "colab": {
          "base_uri": "https://localhost:8080/",
          "height": 35
        }
      },
      "source": [
        "def find_features(document):\n",
        "    words = word_tokenize(document)\n",
        "    features = np.zeros(5000)\n",
        "    for i in range(5000):\n",
        "        if word_features[i] in words:\n",
        "          features[i] = 1\n",
        "\n",
        "    return features\n",
        "\n",
        "# Creating features for each review\n",
        "featuresets = [(find_features(rev)) for (rev, i, o, c, e, a, n) in complete_data]\n",
        "\n",
        "featuresets = np.array(featuresets)\n",
        " \n",
        "print(featuresets.shape)"
      ],
      "execution_count": 0,
      "outputs": [
        {
          "output_type": "stream",
          "text": [
            "(9989, 5000)\n"
          ],
          "name": "stdout"
        }
      ]
    },
    {
      "cell_type": "markdown",
      "metadata": {
        "id": "JXCl4t_ykbRh",
        "colab_type": "text"
      },
      "source": [
        "# Split into sets"
      ]
    },
    {
      "cell_type": "code",
      "metadata": {
        "id": "pjkp-_kMuUsu",
        "colab_type": "code",
        "outputId": "615608c1-3c60-4547-9068-8fc71ea82fde",
        "colab": {
          "base_uri": "https://localhost:8080/",
          "height": 54
        }
      },
      "source": [
        "training_set = featuresets[:5992]\n",
        "validation_set = featuresets[5992:7992]\n",
        "testing_set = featuresets[7992:]\n",
        "print( 'training_set :', len(training_set), '\\ntesting_set :', len(testing_set))"
      ],
      "execution_count": 0,
      "outputs": [
        {
          "output_type": "stream",
          "text": [
            "training_set : 5992 \n",
            "testing_set : 1997\n"
          ],
          "name": "stdout"
        }
      ]
    },
    {
      "cell_type": "code",
      "metadata": {
        "id": "k17RMjXiuZXL",
        "colab_type": "code",
        "outputId": "02ef28dc-b84d-4275-e08d-1cb1b4ccb57f",
        "colab": {
          "base_uri": "https://localhost:8080/",
          "height": 72
        }
      },
      "source": [
        "training_labels = complete_data[:5992, 1:7]\n",
        "validation_labels = complete_data[5992:7992, 1:7]\n",
        "testing_labels = complete_data[7992:, 1:7]\n",
        "\n",
        "\n",
        "print(len(training_labels))\n",
        "print(len(validation_labels))\n",
        "print(len(testing_labels))"
      ],
      "execution_count": 0,
      "outputs": [
        {
          "output_type": "stream",
          "text": [
            "5992\n",
            "2000\n",
            "1997\n"
          ],
          "name": "stdout"
        }
      ]
    },
    {
      "cell_type": "markdown",
      "metadata": {
        "id": "4MTY6CtFkfJs",
        "colab_type": "text"
      },
      "source": [
        "# Shuffle"
      ]
    },
    {
      "cell_type": "code",
      "metadata": {
        "id": "0yjHVVEYyRNp",
        "colab_type": "code",
        "colab": {}
      },
      "source": [
        "def unison_shuffled_copies(a, b):\n",
        "    assert len(a) == len(b)\n",
        "    p = np.random.permutation(len(a))\n",
        "    return a[p], b[p]"
      ],
      "execution_count": 0,
      "outputs": []
    },
    {
      "cell_type": "code",
      "metadata": {
        "id": "NoAvPXHAyS3x",
        "colab_type": "code",
        "colab": {}
      },
      "source": [
        "training_set, training_labels = unison_shuffled_copies(training_set, training_labels)\n",
        "validation_set, validation_labels = unison_shuffled_copies(validation_set, validation_labels)\n",
        "testing_set, testing_labels = unison_shuffled_copies(testing_set, testing_labels)"
      ],
      "execution_count": 0,
      "outputs": []
    },
    {
      "cell_type": "markdown",
      "metadata": {
        "id": "Ljvkp2QquuAT",
        "colab_type": "text"
      },
      "source": [
        "# Interview"
      ]
    },
    {
      "cell_type": "markdown",
      "metadata": {
        "id": "wm8sHJ-oZsVc",
        "colab_type": "text"
      },
      "source": [
        "## Fine tuning for Random forest regressor"
      ]
    },
    {
      "cell_type": "code",
      "metadata": {
        "id": "4Cd34hQC0LKT",
        "colab_type": "code",
        "outputId": "148949ee-46de-4014-ec0e-0408b1274cb4",
        "colab": {
          "base_uri": "https://localhost:8080/",
          "height": 605
        }
      },
      "source": [
        "# Checking for max_depth\n",
        "\n",
        "best_depth = 3\n",
        "max_validation_score = 0\n",
        "for i in range(3, 11):\n",
        "  reg = RandomForestRegressor(max_depth = i)\n",
        "  reg.fit(training_set, training_labels[:, 0])\n",
        "\n",
        "  training_preds = reg.predict(training_set)\n",
        "  validation_preds = reg.predict(validation_set)\n",
        "\n",
        "  validation_score = 1-mean_absolute_error(validation_labels[:, 0], validation_preds)\n",
        "\n",
        "  print(\"MAX DEPTH \" + str(i))\n",
        "  print(\"Training score \" + str(1-mean_absolute_error(training_labels[:, 0], training_preds)))\n",
        "  print(\"Validation score \" + str(validation_score))\n",
        "  print(\"----------------------------------------------\")\n",
        "\n",
        "  if(validation_score > max_validation_score):\n",
        "    best_depth = i\n",
        "    max_validation_score = validation_score"
      ],
      "execution_count": 0,
      "outputs": [
        {
          "output_type": "stream",
          "text": [
            "MAX DEPTH 3\n",
            "Training score 0.8802385229661867\n",
            "Validation score 0.8833631670682779\n",
            "----------------------------------------------\n",
            "MAX DEPTH 4\n",
            "Training score 0.8806510969455896\n",
            "Validation score 0.8834569781590187\n",
            "----------------------------------------------\n",
            "MAX DEPTH 5\n",
            "Training score 0.8811427010714719\n",
            "Validation score 0.8834578295574579\n",
            "----------------------------------------------\n",
            "MAX DEPTH 6\n",
            "Training score 0.8816164708594518\n",
            "Validation score 0.8835505818944033\n",
            "----------------------------------------------\n",
            "MAX DEPTH 7\n",
            "Training score 0.882231587701089\n",
            "Validation score 0.8835875259675396\n",
            "----------------------------------------------\n",
            "MAX DEPTH 8\n",
            "Training score 0.882621489584021\n",
            "Validation score 0.883586853635701\n",
            "----------------------------------------------\n",
            "MAX DEPTH 9\n",
            "Training score 0.8833442898803436\n",
            "Validation score 0.8835670157917902\n",
            "----------------------------------------------\n",
            "MAX DEPTH 10\n",
            "Training score 0.883998235403455\n",
            "Validation score 0.88374933134061\n",
            "----------------------------------------------\n"
          ],
          "name": "stdout"
        }
      ]
    },
    {
      "cell_type": "code",
      "metadata": {
        "id": "qzDci-JUaTwJ",
        "colab_type": "code",
        "outputId": "7167120f-7648-40d0-d917-3237bcfb276d",
        "colab": {
          "base_uri": "https://localhost:8080/",
          "height": 494
        }
      },
      "source": [
        "#checking for best criterion\n",
        "criterion = ['mse', 'mae']\n",
        "best_criterion = 'mse'\n",
        "max_validation_score = 0\n",
        "\n",
        "for c in criterion:\n",
        "  reg = RandomForestRegressor(max_depth = best_depth, criterion = c)\n",
        "  reg.fit(training_set, training_labels[:, 0])\n",
        "\n",
        "  training_preds = reg.predict(training_set)\n",
        "  validation_preds = reg.predict(validation_set)\n",
        "\n",
        "  validation_score = 1-mean_absolute_error(validation_labels[:, 0], validation_preds)\n",
        "\n",
        "  print(\"CRITERION: \" + c)\n",
        "  print(\"Training score \" + str(1-mean_absolute_error(training_labels[:, 0], training_preds)))\n",
        "  print(\"Validation score \" + str(validation_score))\n",
        "  print(\"----------------------------------------------\")\n",
        "\n",
        "  if(validation_score > max_validation_score):\n",
        "    best_criterion = c\n",
        "    max_validation_score = validation_score"
      ],
      "execution_count": 0,
      "outputs": [
        {
          "output_type": "stream",
          "text": [
            "CRITERION: mse\n",
            "Training score 0.8840966724174258\n",
            "Validation score 0.8837280966987708\n",
            "----------------------------------------------\n"
          ],
          "name": "stdout"
        },
        {
          "output_type": "error",
          "ename": "KeyboardInterrupt",
          "evalue": "ignored",
          "traceback": [
            "\u001b[0;31m---------------------------------------------------------------------------\u001b[0m",
            "\u001b[0;31mKeyboardInterrupt\u001b[0m                         Traceback (most recent call last)",
            "\u001b[0;32m<ipython-input-30-e132bb7ac761>\u001b[0m in \u001b[0;36m<module>\u001b[0;34m()\u001b[0m\n\u001b[1;32m      6\u001b[0m \u001b[0;32mfor\u001b[0m \u001b[0mc\u001b[0m \u001b[0;32min\u001b[0m \u001b[0mcriterion\u001b[0m\u001b[0;34m:\u001b[0m\u001b[0;34m\u001b[0m\u001b[0;34m\u001b[0m\u001b[0m\n\u001b[1;32m      7\u001b[0m   \u001b[0mreg\u001b[0m \u001b[0;34m=\u001b[0m \u001b[0mRandomForestRegressor\u001b[0m\u001b[0;34m(\u001b[0m\u001b[0mmax_depth\u001b[0m \u001b[0;34m=\u001b[0m \u001b[0mbest_depth\u001b[0m\u001b[0;34m,\u001b[0m \u001b[0mcriterion\u001b[0m \u001b[0;34m=\u001b[0m \u001b[0mc\u001b[0m\u001b[0;34m)\u001b[0m\u001b[0;34m\u001b[0m\u001b[0;34m\u001b[0m\u001b[0m\n\u001b[0;32m----> 8\u001b[0;31m   \u001b[0mreg\u001b[0m\u001b[0;34m.\u001b[0m\u001b[0mfit\u001b[0m\u001b[0;34m(\u001b[0m\u001b[0mtraining_set\u001b[0m\u001b[0;34m,\u001b[0m \u001b[0mtraining_labels\u001b[0m\u001b[0;34m[\u001b[0m\u001b[0;34m:\u001b[0m\u001b[0;34m,\u001b[0m \u001b[0;36m0\u001b[0m\u001b[0;34m]\u001b[0m\u001b[0;34m)\u001b[0m\u001b[0;34m\u001b[0m\u001b[0;34m\u001b[0m\u001b[0m\n\u001b[0m\u001b[1;32m      9\u001b[0m \u001b[0;34m\u001b[0m\u001b[0m\n\u001b[1;32m     10\u001b[0m   \u001b[0mtraining_preds\u001b[0m \u001b[0;34m=\u001b[0m \u001b[0mreg\u001b[0m\u001b[0;34m.\u001b[0m\u001b[0mpredict\u001b[0m\u001b[0;34m(\u001b[0m\u001b[0mtraining_set\u001b[0m\u001b[0;34m)\u001b[0m\u001b[0;34m\u001b[0m\u001b[0;34m\u001b[0m\u001b[0m\n",
            "\u001b[0;32m/usr/local/lib/python3.6/dist-packages/sklearn/ensemble/_forest.py\u001b[0m in \u001b[0;36mfit\u001b[0;34m(self, X, y, sample_weight)\u001b[0m\n\u001b[1;32m    381\u001b[0m                     \u001b[0mverbose\u001b[0m\u001b[0;34m=\u001b[0m\u001b[0mself\u001b[0m\u001b[0;34m.\u001b[0m\u001b[0mverbose\u001b[0m\u001b[0;34m,\u001b[0m \u001b[0mclass_weight\u001b[0m\u001b[0;34m=\u001b[0m\u001b[0mself\u001b[0m\u001b[0;34m.\u001b[0m\u001b[0mclass_weight\u001b[0m\u001b[0;34m,\u001b[0m\u001b[0;34m\u001b[0m\u001b[0;34m\u001b[0m\u001b[0m\n\u001b[1;32m    382\u001b[0m                     n_samples_bootstrap=n_samples_bootstrap)\n\u001b[0;32m--> 383\u001b[0;31m                 for i, t in enumerate(trees))\n\u001b[0m\u001b[1;32m    384\u001b[0m \u001b[0;34m\u001b[0m\u001b[0m\n\u001b[1;32m    385\u001b[0m             \u001b[0;31m# Collect newly grown trees\u001b[0m\u001b[0;34m\u001b[0m\u001b[0;34m\u001b[0m\u001b[0;34m\u001b[0m\u001b[0m\n",
            "\u001b[0;32m/usr/local/lib/python3.6/dist-packages/joblib/parallel.py\u001b[0m in \u001b[0;36m__call__\u001b[0;34m(self, iterable)\u001b[0m\n\u001b[1;32m   1030\u001b[0m                 \u001b[0mself\u001b[0m\u001b[0;34m.\u001b[0m\u001b[0m_iterating\u001b[0m \u001b[0;34m=\u001b[0m \u001b[0mself\u001b[0m\u001b[0;34m.\u001b[0m\u001b[0m_original_iterator\u001b[0m \u001b[0;32mis\u001b[0m \u001b[0;32mnot\u001b[0m \u001b[0;32mNone\u001b[0m\u001b[0;34m\u001b[0m\u001b[0;34m\u001b[0m\u001b[0m\n\u001b[1;32m   1031\u001b[0m \u001b[0;34m\u001b[0m\u001b[0m\n\u001b[0;32m-> 1032\u001b[0;31m             \u001b[0;32mwhile\u001b[0m \u001b[0mself\u001b[0m\u001b[0;34m.\u001b[0m\u001b[0mdispatch_one_batch\u001b[0m\u001b[0;34m(\u001b[0m\u001b[0miterator\u001b[0m\u001b[0;34m)\u001b[0m\u001b[0;34m:\u001b[0m\u001b[0;34m\u001b[0m\u001b[0;34m\u001b[0m\u001b[0m\n\u001b[0m\u001b[1;32m   1033\u001b[0m                 \u001b[0;32mpass\u001b[0m\u001b[0;34m\u001b[0m\u001b[0;34m\u001b[0m\u001b[0m\n\u001b[1;32m   1034\u001b[0m \u001b[0;34m\u001b[0m\u001b[0m\n",
            "\u001b[0;32m/usr/local/lib/python3.6/dist-packages/joblib/parallel.py\u001b[0m in \u001b[0;36mdispatch_one_batch\u001b[0;34m(self, iterator)\u001b[0m\n\u001b[1;32m    845\u001b[0m                 \u001b[0;32mreturn\u001b[0m \u001b[0;32mFalse\u001b[0m\u001b[0;34m\u001b[0m\u001b[0;34m\u001b[0m\u001b[0m\n\u001b[1;32m    846\u001b[0m             \u001b[0;32melse\u001b[0m\u001b[0;34m:\u001b[0m\u001b[0;34m\u001b[0m\u001b[0;34m\u001b[0m\u001b[0m\n\u001b[0;32m--> 847\u001b[0;31m                 \u001b[0mself\u001b[0m\u001b[0;34m.\u001b[0m\u001b[0m_dispatch\u001b[0m\u001b[0;34m(\u001b[0m\u001b[0mtasks\u001b[0m\u001b[0;34m)\u001b[0m\u001b[0;34m\u001b[0m\u001b[0;34m\u001b[0m\u001b[0m\n\u001b[0m\u001b[1;32m    848\u001b[0m                 \u001b[0;32mreturn\u001b[0m \u001b[0;32mTrue\u001b[0m\u001b[0;34m\u001b[0m\u001b[0;34m\u001b[0m\u001b[0m\n\u001b[1;32m    849\u001b[0m \u001b[0;34m\u001b[0m\u001b[0m\n",
            "\u001b[0;32m/usr/local/lib/python3.6/dist-packages/joblib/parallel.py\u001b[0m in \u001b[0;36m_dispatch\u001b[0;34m(self, batch)\u001b[0m\n\u001b[1;32m    763\u001b[0m         \u001b[0;32mwith\u001b[0m \u001b[0mself\u001b[0m\u001b[0;34m.\u001b[0m\u001b[0m_lock\u001b[0m\u001b[0;34m:\u001b[0m\u001b[0;34m\u001b[0m\u001b[0;34m\u001b[0m\u001b[0m\n\u001b[1;32m    764\u001b[0m             \u001b[0mjob_idx\u001b[0m \u001b[0;34m=\u001b[0m \u001b[0mlen\u001b[0m\u001b[0;34m(\u001b[0m\u001b[0mself\u001b[0m\u001b[0;34m.\u001b[0m\u001b[0m_jobs\u001b[0m\u001b[0;34m)\u001b[0m\u001b[0;34m\u001b[0m\u001b[0;34m\u001b[0m\u001b[0m\n\u001b[0;32m--> 765\u001b[0;31m             \u001b[0mjob\u001b[0m \u001b[0;34m=\u001b[0m \u001b[0mself\u001b[0m\u001b[0;34m.\u001b[0m\u001b[0m_backend\u001b[0m\u001b[0;34m.\u001b[0m\u001b[0mapply_async\u001b[0m\u001b[0;34m(\u001b[0m\u001b[0mbatch\u001b[0m\u001b[0;34m,\u001b[0m \u001b[0mcallback\u001b[0m\u001b[0;34m=\u001b[0m\u001b[0mcb\u001b[0m\u001b[0;34m)\u001b[0m\u001b[0;34m\u001b[0m\u001b[0;34m\u001b[0m\u001b[0m\n\u001b[0m\u001b[1;32m    766\u001b[0m             \u001b[0;31m# A job can complete so quickly than its callback is\u001b[0m\u001b[0;34m\u001b[0m\u001b[0;34m\u001b[0m\u001b[0;34m\u001b[0m\u001b[0m\n\u001b[1;32m    767\u001b[0m             \u001b[0;31m# called before we get here, causing self._jobs to\u001b[0m\u001b[0;34m\u001b[0m\u001b[0;34m\u001b[0m\u001b[0;34m\u001b[0m\u001b[0m\n",
            "\u001b[0;32m/usr/local/lib/python3.6/dist-packages/joblib/_parallel_backends.py\u001b[0m in \u001b[0;36mapply_async\u001b[0;34m(self, func, callback)\u001b[0m\n\u001b[1;32m    204\u001b[0m     \u001b[0;32mdef\u001b[0m \u001b[0mapply_async\u001b[0m\u001b[0;34m(\u001b[0m\u001b[0mself\u001b[0m\u001b[0;34m,\u001b[0m \u001b[0mfunc\u001b[0m\u001b[0;34m,\u001b[0m \u001b[0mcallback\u001b[0m\u001b[0;34m=\u001b[0m\u001b[0;32mNone\u001b[0m\u001b[0;34m)\u001b[0m\u001b[0;34m:\u001b[0m\u001b[0;34m\u001b[0m\u001b[0;34m\u001b[0m\u001b[0m\n\u001b[1;32m    205\u001b[0m         \u001b[0;34m\"\"\"Schedule a func to be run\"\"\"\u001b[0m\u001b[0;34m\u001b[0m\u001b[0;34m\u001b[0m\u001b[0m\n\u001b[0;32m--> 206\u001b[0;31m         \u001b[0mresult\u001b[0m \u001b[0;34m=\u001b[0m \u001b[0mImmediateResult\u001b[0m\u001b[0;34m(\u001b[0m\u001b[0mfunc\u001b[0m\u001b[0;34m)\u001b[0m\u001b[0;34m\u001b[0m\u001b[0;34m\u001b[0m\u001b[0m\n\u001b[0m\u001b[1;32m    207\u001b[0m         \u001b[0;32mif\u001b[0m \u001b[0mcallback\u001b[0m\u001b[0;34m:\u001b[0m\u001b[0;34m\u001b[0m\u001b[0;34m\u001b[0m\u001b[0m\n\u001b[1;32m    208\u001b[0m             \u001b[0mcallback\u001b[0m\u001b[0;34m(\u001b[0m\u001b[0mresult\u001b[0m\u001b[0;34m)\u001b[0m\u001b[0;34m\u001b[0m\u001b[0;34m\u001b[0m\u001b[0m\n",
            "\u001b[0;32m/usr/local/lib/python3.6/dist-packages/joblib/_parallel_backends.py\u001b[0m in \u001b[0;36m__init__\u001b[0;34m(self, batch)\u001b[0m\n\u001b[1;32m    568\u001b[0m         \u001b[0;31m# Don't delay the application, to avoid keeping the input\u001b[0m\u001b[0;34m\u001b[0m\u001b[0;34m\u001b[0m\u001b[0;34m\u001b[0m\u001b[0m\n\u001b[1;32m    569\u001b[0m         \u001b[0;31m# arguments in memory\u001b[0m\u001b[0;34m\u001b[0m\u001b[0;34m\u001b[0m\u001b[0;34m\u001b[0m\u001b[0m\n\u001b[0;32m--> 570\u001b[0;31m         \u001b[0mself\u001b[0m\u001b[0;34m.\u001b[0m\u001b[0mresults\u001b[0m \u001b[0;34m=\u001b[0m \u001b[0mbatch\u001b[0m\u001b[0;34m(\u001b[0m\u001b[0;34m)\u001b[0m\u001b[0;34m\u001b[0m\u001b[0;34m\u001b[0m\u001b[0m\n\u001b[0m\u001b[1;32m    571\u001b[0m \u001b[0;34m\u001b[0m\u001b[0m\n\u001b[1;32m    572\u001b[0m     \u001b[0;32mdef\u001b[0m \u001b[0mget\u001b[0m\u001b[0;34m(\u001b[0m\u001b[0mself\u001b[0m\u001b[0;34m)\u001b[0m\u001b[0;34m:\u001b[0m\u001b[0;34m\u001b[0m\u001b[0;34m\u001b[0m\u001b[0m\n",
            "\u001b[0;32m/usr/local/lib/python3.6/dist-packages/joblib/parallel.py\u001b[0m in \u001b[0;36m__call__\u001b[0;34m(self)\u001b[0m\n\u001b[1;32m    251\u001b[0m         \u001b[0;32mwith\u001b[0m \u001b[0mparallel_backend\u001b[0m\u001b[0;34m(\u001b[0m\u001b[0mself\u001b[0m\u001b[0;34m.\u001b[0m\u001b[0m_backend\u001b[0m\u001b[0;34m,\u001b[0m \u001b[0mn_jobs\u001b[0m\u001b[0;34m=\u001b[0m\u001b[0mself\u001b[0m\u001b[0;34m.\u001b[0m\u001b[0m_n_jobs\u001b[0m\u001b[0;34m)\u001b[0m\u001b[0;34m:\u001b[0m\u001b[0;34m\u001b[0m\u001b[0;34m\u001b[0m\u001b[0m\n\u001b[1;32m    252\u001b[0m             return [func(*args, **kwargs)\n\u001b[0;32m--> 253\u001b[0;31m                     for func, args, kwargs in self.items]\n\u001b[0m\u001b[1;32m    254\u001b[0m \u001b[0;34m\u001b[0m\u001b[0m\n\u001b[1;32m    255\u001b[0m     \u001b[0;32mdef\u001b[0m \u001b[0m__reduce__\u001b[0m\u001b[0;34m(\u001b[0m\u001b[0mself\u001b[0m\u001b[0;34m)\u001b[0m\u001b[0;34m:\u001b[0m\u001b[0;34m\u001b[0m\u001b[0;34m\u001b[0m\u001b[0m\n",
            "\u001b[0;32m/usr/local/lib/python3.6/dist-packages/joblib/parallel.py\u001b[0m in \u001b[0;36m<listcomp>\u001b[0;34m(.0)\u001b[0m\n\u001b[1;32m    251\u001b[0m         \u001b[0;32mwith\u001b[0m \u001b[0mparallel_backend\u001b[0m\u001b[0;34m(\u001b[0m\u001b[0mself\u001b[0m\u001b[0;34m.\u001b[0m\u001b[0m_backend\u001b[0m\u001b[0;34m,\u001b[0m \u001b[0mn_jobs\u001b[0m\u001b[0;34m=\u001b[0m\u001b[0mself\u001b[0m\u001b[0;34m.\u001b[0m\u001b[0m_n_jobs\u001b[0m\u001b[0;34m)\u001b[0m\u001b[0;34m:\u001b[0m\u001b[0;34m\u001b[0m\u001b[0;34m\u001b[0m\u001b[0m\n\u001b[1;32m    252\u001b[0m             return [func(*args, **kwargs)\n\u001b[0;32m--> 253\u001b[0;31m                     for func, args, kwargs in self.items]\n\u001b[0m\u001b[1;32m    254\u001b[0m \u001b[0;34m\u001b[0m\u001b[0m\n\u001b[1;32m    255\u001b[0m     \u001b[0;32mdef\u001b[0m \u001b[0m__reduce__\u001b[0m\u001b[0;34m(\u001b[0m\u001b[0mself\u001b[0m\u001b[0;34m)\u001b[0m\u001b[0;34m:\u001b[0m\u001b[0;34m\u001b[0m\u001b[0;34m\u001b[0m\u001b[0m\n",
            "\u001b[0;32m/usr/local/lib/python3.6/dist-packages/sklearn/ensemble/_forest.py\u001b[0m in \u001b[0;36m_parallel_build_trees\u001b[0;34m(tree, forest, X, y, sample_weight, tree_idx, n_trees, verbose, class_weight, n_samples_bootstrap)\u001b[0m\n\u001b[1;32m    163\u001b[0m             \u001b[0mcurr_sample_weight\u001b[0m \u001b[0;34m*=\u001b[0m \u001b[0mcompute_sample_weight\u001b[0m\u001b[0;34m(\u001b[0m\u001b[0;34m'balanced'\u001b[0m\u001b[0;34m,\u001b[0m \u001b[0my\u001b[0m\u001b[0;34m,\u001b[0m \u001b[0mindices\u001b[0m\u001b[0;34m)\u001b[0m\u001b[0;34m\u001b[0m\u001b[0;34m\u001b[0m\u001b[0m\n\u001b[1;32m    164\u001b[0m \u001b[0;34m\u001b[0m\u001b[0m\n\u001b[0;32m--> 165\u001b[0;31m         \u001b[0mtree\u001b[0m\u001b[0;34m.\u001b[0m\u001b[0mfit\u001b[0m\u001b[0;34m(\u001b[0m\u001b[0mX\u001b[0m\u001b[0;34m,\u001b[0m \u001b[0my\u001b[0m\u001b[0;34m,\u001b[0m \u001b[0msample_weight\u001b[0m\u001b[0;34m=\u001b[0m\u001b[0mcurr_sample_weight\u001b[0m\u001b[0;34m,\u001b[0m \u001b[0mcheck_input\u001b[0m\u001b[0;34m=\u001b[0m\u001b[0;32mFalse\u001b[0m\u001b[0;34m)\u001b[0m\u001b[0;34m\u001b[0m\u001b[0;34m\u001b[0m\u001b[0m\n\u001b[0m\u001b[1;32m    166\u001b[0m     \u001b[0;32melse\u001b[0m\u001b[0;34m:\u001b[0m\u001b[0;34m\u001b[0m\u001b[0;34m\u001b[0m\u001b[0m\n\u001b[1;32m    167\u001b[0m         \u001b[0mtree\u001b[0m\u001b[0;34m.\u001b[0m\u001b[0mfit\u001b[0m\u001b[0;34m(\u001b[0m\u001b[0mX\u001b[0m\u001b[0;34m,\u001b[0m \u001b[0my\u001b[0m\u001b[0;34m,\u001b[0m \u001b[0msample_weight\u001b[0m\u001b[0;34m=\u001b[0m\u001b[0msample_weight\u001b[0m\u001b[0;34m,\u001b[0m \u001b[0mcheck_input\u001b[0m\u001b[0;34m=\u001b[0m\u001b[0;32mFalse\u001b[0m\u001b[0;34m)\u001b[0m\u001b[0;34m\u001b[0m\u001b[0;34m\u001b[0m\u001b[0m\n",
            "\u001b[0;32m/usr/local/lib/python3.6/dist-packages/sklearn/tree/_classes.py\u001b[0m in \u001b[0;36mfit\u001b[0;34m(self, X, y, sample_weight, check_input, X_idx_sorted)\u001b[0m\n\u001b[1;32m   1223\u001b[0m             \u001b[0msample_weight\u001b[0m\u001b[0;34m=\u001b[0m\u001b[0msample_weight\u001b[0m\u001b[0;34m,\u001b[0m\u001b[0;34m\u001b[0m\u001b[0;34m\u001b[0m\u001b[0m\n\u001b[1;32m   1224\u001b[0m             \u001b[0mcheck_input\u001b[0m\u001b[0;34m=\u001b[0m\u001b[0mcheck_input\u001b[0m\u001b[0;34m,\u001b[0m\u001b[0;34m\u001b[0m\u001b[0;34m\u001b[0m\u001b[0m\n\u001b[0;32m-> 1225\u001b[0;31m             X_idx_sorted=X_idx_sorted)\n\u001b[0m\u001b[1;32m   1226\u001b[0m         \u001b[0;32mreturn\u001b[0m \u001b[0mself\u001b[0m\u001b[0;34m\u001b[0m\u001b[0;34m\u001b[0m\u001b[0m\n\u001b[1;32m   1227\u001b[0m \u001b[0;34m\u001b[0m\u001b[0m\n",
            "\u001b[0;32m/usr/local/lib/python3.6/dist-packages/sklearn/tree/_classes.py\u001b[0m in \u001b[0;36mfit\u001b[0;34m(self, X, y, sample_weight, check_input, X_idx_sorted)\u001b[0m\n\u001b[1;32m    365\u001b[0m                                            min_impurity_split)\n\u001b[1;32m    366\u001b[0m \u001b[0;34m\u001b[0m\u001b[0m\n\u001b[0;32m--> 367\u001b[0;31m         \u001b[0mbuilder\u001b[0m\u001b[0;34m.\u001b[0m\u001b[0mbuild\u001b[0m\u001b[0;34m(\u001b[0m\u001b[0mself\u001b[0m\u001b[0;34m.\u001b[0m\u001b[0mtree_\u001b[0m\u001b[0;34m,\u001b[0m \u001b[0mX\u001b[0m\u001b[0;34m,\u001b[0m \u001b[0my\u001b[0m\u001b[0;34m,\u001b[0m \u001b[0msample_weight\u001b[0m\u001b[0;34m,\u001b[0m \u001b[0mX_idx_sorted\u001b[0m\u001b[0;34m)\u001b[0m\u001b[0;34m\u001b[0m\u001b[0;34m\u001b[0m\u001b[0m\n\u001b[0m\u001b[1;32m    368\u001b[0m \u001b[0;34m\u001b[0m\u001b[0m\n\u001b[1;32m    369\u001b[0m         \u001b[0;32mif\u001b[0m \u001b[0mself\u001b[0m\u001b[0;34m.\u001b[0m\u001b[0mn_outputs_\u001b[0m \u001b[0;34m==\u001b[0m \u001b[0;36m1\u001b[0m \u001b[0;32mand\u001b[0m \u001b[0mis_classifier\u001b[0m\u001b[0;34m(\u001b[0m\u001b[0mself\u001b[0m\u001b[0;34m)\u001b[0m\u001b[0;34m:\u001b[0m\u001b[0;34m\u001b[0m\u001b[0;34m\u001b[0m\u001b[0m\n",
            "\u001b[0;31mKeyboardInterrupt\u001b[0m: "
          ]
        }
      ]
    },
    {
      "cell_type": "markdown",
      "metadata": {
        "id": "BGQBfraBe6c4",
        "colab_type": "text"
      },
      "source": [
        "## Test score Random Forest Regressor"
      ]
    },
    {
      "cell_type": "code",
      "metadata": {
        "id": "Od8XflmQbHjn",
        "colab_type": "code",
        "outputId": "38377ae2-058d-4a4d-c723-db34cc82881e",
        "colab": {
          "base_uri": "https://localhost:8080/",
          "height": 54
        }
      },
      "source": [
        "reg = RandomForestRegressor(max_depth = best_depth, criterion = best_criterion)\n",
        "reg.fit(np.concatenate((training_set, validation_set), axis = 0), np.concatenate((training_labels[:, 0], validation_labels[:, 0])))\n",
        "\n",
        "testing_preds = reg.predict(testing_set)\n",
        "\n",
        "testing_score = 1-mean_absolute_error(testing_labels[:, 0], testing_preds)\n",
        "\n",
        "print(\"Test score \" + str(testing_score))\n",
        "print(\"----------------------------------------------\")"
      ],
      "execution_count": 0,
      "outputs": [
        {
          "output_type": "stream",
          "text": [
            "Test score 0.8823983966549148\n",
            "----------------------------------------------\n"
          ],
          "name": "stdout"
        }
      ]
    },
    {
      "cell_type": "markdown",
      "metadata": {
        "id": "2f1RU_KMiSuj",
        "colab_type": "text"
      },
      "source": [
        "## Fine tuning SVR"
      ]
    },
    {
      "cell_type": "code",
      "metadata": {
        "id": "gEMDL4ldid5n",
        "colab_type": "code",
        "outputId": "b01b7d9e-a16d-457e-e7ac-b864f6edc1e5",
        "colab": {
          "base_uri": "https://localhost:8080/",
          "height": 127
        }
      },
      "source": [
        "best_kernel = 'rbf'\n",
        "kernels = ['rbf', 'linear']\n",
        "max_validation_score = 0\n",
        "for k in kernels:\n",
        "  reg = SVR(kernel = k)\n",
        "  reg.fit(training_set, training_labels[:, 0])\n",
        "\n",
        "  training_preds = reg.predict(training_set)\n",
        "  validation_preds = reg.predict(validation_set)\n",
        "\n",
        "  validation_score = 1-mean_absolute_error(validation_labels[:, 0], validation_preds)\n",
        "\n",
        "  print(\"Training score \" + str(1-mean_absolute_error(training_labels[:, 0], training_preds)))\n",
        "  print(\"Validation score \" + str(validation_score))\n",
        "  print(\"----------------------------------------------\")\n",
        "\n",
        "  if(validation_score > max_validation_score):\n",
        "    best_kernel = k\n",
        "    max_validation_score = validation_score"
      ],
      "execution_count": 0,
      "outputs": [
        {
          "output_type": "stream",
          "text": [
            "Training score 0.924658678302989\n",
            "Validation score 0.8844939174494675\n",
            "----------------------------------------------\n",
            "Training score 0.9118289303245998\n",
            "Validation score 0.8398228863323203\n",
            "----------------------------------------------\n"
          ],
          "name": "stdout"
        }
      ]
    },
    {
      "cell_type": "code",
      "metadata": {
        "id": "MQqwtPlDjU00",
        "colab_type": "code",
        "outputId": "66c738da-2ed4-4d70-ef0d-f192de01585e",
        "colab": {
          "base_uri": "https://localhost:8080/",
          "height": 293
        }
      },
      "source": [
        "best_C = 1\n",
        "regu = [0.01, 0.1, 1, 10, 100]\n",
        "max_validation_score = 0\n",
        "for c in regu:\n",
        "  reg = SVR(kernel = best_kernel, C = c)\n",
        "  reg.fit(training_set, training_labels[:, 0])\n",
        "\n",
        "  training_preds = reg.predict(training_set)\n",
        "  validation_preds = reg.predict(validation_set)\n",
        "\n",
        "  validation_score = 1-mean_absolute_error(validation_labels[:, 0], validation_preds)\n",
        "\n",
        "  print(\"Training score \" + str(1-mean_absolute_error(training_labels[:, 0], training_preds)))\n",
        "  print(\"Validation score \" + str(validation_score))\n",
        "  print(\"----------------------------------------------\")\n",
        "\n",
        "  if(validation_score > max_validation_score):\n",
        "    best_C = c\n",
        "    max_validation_score = validation_score"
      ],
      "execution_count": 0,
      "outputs": [
        {
          "output_type": "stream",
          "text": [
            "Training score 0.8870670416359114\n",
            "Validation score 0.8861320523167111\n",
            "----------------------------------------------\n",
            "Training score 0.9078512899780821\n",
            "Validation score 0.8865842759031455\n",
            "----------------------------------------------\n",
            "Training score 0.924658678302989\n",
            "Validation score 0.8844939174494675\n",
            "----------------------------------------------\n",
            "Training score 0.9247812323523613\n",
            "Validation score 0.8823787257781182\n",
            "----------------------------------------------\n",
            "Training score 0.9247733977047906\n",
            "Validation score 0.8823669543653669\n",
            "----------------------------------------------\n"
          ],
          "name": "stdout"
        }
      ]
    },
    {
      "cell_type": "markdown",
      "metadata": {
        "id": "O7Z0ltTSjrj-",
        "colab_type": "text"
      },
      "source": [
        "## Test score SVR"
      ]
    },
    {
      "cell_type": "code",
      "metadata": {
        "id": "z2ru86eL0vfe",
        "colab_type": "code",
        "outputId": "015103fa-0425-4dce-802a-ab3378ab364f",
        "colab": {
          "base_uri": "https://localhost:8080/",
          "height": 54
        }
      },
      "source": [
        "reg = SVR(kernel = best_kernel, C = best_C)\n",
        "reg.fit(np.concatenate((training_set, validation_set), axis = 0), np.concatenate((training_labels[:, 0], validation_labels[:, 0])))\n",
        "\n",
        "testing_preds = reg.predict(testing_set)\n",
        "\n",
        "testing_score = 1-mean_absolute_error(testing_labels[:, 0], testing_preds)\n",
        "\n",
        "print(\"Test score \" + str(testing_score))\n",
        "print(\"----------------------------------------------\")"
      ],
      "execution_count": 0,
      "outputs": [
        {
          "output_type": "stream",
          "text": [
            "Test score 0.8862301635280097\n",
            "----------------------------------------------\n"
          ],
          "name": "stdout"
        }
      ]
    },
    {
      "cell_type": "code",
      "metadata": {
        "id": "jcuOUNcVJ_b2",
        "colab_type": "code",
        "colab": {}
      },
      "source": [
        ""
      ],
      "execution_count": 0,
      "outputs": []
    },
    {
      "cell_type": "markdown",
      "metadata": {
        "colab_type": "text",
        "id": "VyBARVLrKBso"
      },
      "source": [
        "# Openness"
      ]
    },
    {
      "cell_type": "markdown",
      "metadata": {
        "colab_type": "text",
        "id": "RAIe49LBKBsy"
      },
      "source": [
        "## Fine tuning for Random forest regressor"
      ]
    },
    {
      "cell_type": "code",
      "metadata": {
        "colab_type": "code",
        "outputId": "71689d6d-af8b-4ee6-8c78-e2b325426d66",
        "id": "FxVTqEgZKBs4",
        "colab": {
          "base_uri": "https://localhost:8080/",
          "height": 605
        }
      },
      "source": [
        "# Checking for max_depth\n",
        "\n",
        "best_depth = 3\n",
        "max_validation_score = 0\n",
        "for i in range(3, 11):\n",
        "  reg = RandomForestRegressor(max_depth = i)\n",
        "  reg.fit(training_set, training_labels[:, 1])\n",
        "\n",
        "  training_preds = reg.predict(training_set)\n",
        "  validation_preds = reg.predict(validation_set)\n",
        "\n",
        "  validation_score = 1-mean_absolute_error(validation_labels[:, 1], validation_preds)\n",
        "\n",
        "  print(\"MAX DEPTH \" + str(i))\n",
        "  print(\"Training score \" + str(1-mean_absolute_error(training_labels[:, 1], training_preds)))\n",
        "  print(\"Validation score \" + str(validation_score))\n",
        "  print(\"----------------------------------------------\")\n",
        "\n",
        "  if(validation_score > max_validation_score):\n",
        "    best_depth = i\n",
        "    max_validation_score = validation_score"
      ],
      "execution_count": 0,
      "outputs": [
        {
          "output_type": "stream",
          "text": [
            "MAX DEPTH 3\n",
            "Training score 0.8838694853590445\n",
            "Validation score 0.8852397146933799\n",
            "----------------------------------------------\n",
            "MAX DEPTH 4\n",
            "Training score 0.8843574682655615\n",
            "Validation score 0.8853475261854776\n",
            "----------------------------------------------\n",
            "MAX DEPTH 5\n",
            "Training score 0.8849839242577318\n",
            "Validation score 0.8854609610086985\n",
            "----------------------------------------------\n",
            "MAX DEPTH 6\n",
            "Training score 0.8854618785001244\n",
            "Validation score 0.8854774689718037\n",
            "----------------------------------------------\n",
            "MAX DEPTH 7\n",
            "Training score 0.8861351802153844\n",
            "Validation score 0.8854594997096183\n",
            "----------------------------------------------\n",
            "MAX DEPTH 8\n",
            "Training score 0.8867246805379829\n",
            "Validation score 0.8856104445028696\n",
            "----------------------------------------------\n",
            "MAX DEPTH 9\n",
            "Training score 0.8874785467618422\n",
            "Validation score 0.8855439891500844\n",
            "----------------------------------------------\n",
            "MAX DEPTH 10\n",
            "Training score 0.8882648395862135\n",
            "Validation score 0.8858409280851925\n",
            "----------------------------------------------\n"
          ],
          "name": "stdout"
        }
      ]
    },
    {
      "cell_type": "code",
      "metadata": {
        "colab_type": "code",
        "id": "uTvf4MjSKBtM",
        "colab": {}
      },
      "source": [
        "#checking for best criterion\n",
        "criterion = ['mse', 'mae']\n",
        "best_criterion = 'mse'\n",
        "max_validation_score = 0\n",
        "\n",
        "for c in criterion:\n",
        "  reg = RandomForestRegressor(max_depth = best_depth, criterion = c)\n",
        "  reg.fit(training_set, training_labels[:, 0])\n",
        "\n",
        "  training_preds = reg.predict(training_set)\n",
        "  validation_preds = reg.predict(validation_set)\n",
        "\n",
        "  validation_score = 1-mean_absolute_error(validation_labels[:, 0], validation_preds)\n",
        "\n",
        "  print(\"CRITERION: \" + c)\n",
        "  print(\"Training score \" + str(1-mean_absolute_error(training_labels[:, 0], training_preds)))\n",
        "  print(\"Validation score \" + str(validation_score))\n",
        "  print(\"----------------------------------------------\")\n",
        "\n",
        "  if(validation_score > max_validation_score):\n",
        "    best_criterion = c\n",
        "    max_validation_score = validation_score"
      ],
      "execution_count": 0,
      "outputs": []
    },
    {
      "cell_type": "markdown",
      "metadata": {
        "colab_type": "text",
        "id": "LQec3tmJKBtg"
      },
      "source": [
        "## Test score Random Forest Regressor"
      ]
    },
    {
      "cell_type": "code",
      "metadata": {
        "colab_type": "code",
        "outputId": "5e999821-348e-4543-eeab-332c8eef7b73",
        "id": "-l7tjO3WKBti",
        "colab": {
          "base_uri": "https://localhost:8080/",
          "height": 54
        }
      },
      "source": [
        "reg = RandomForestRegressor(max_depth = best_depth, criterion = best_criterion)\n",
        "reg.fit(np.concatenate((training_set, validation_set), axis = 0), np.concatenate((training_labels[:, 1], validation_labels[:, 1])))\n",
        "\n",
        "testing_preds = reg.predict(testing_set)\n",
        "\n",
        "testing_score = 1-mean_absolute_error(testing_labels[:, 1], testing_preds)\n",
        "\n",
        "print(\"Test score \" + str(testing_score))\n",
        "print(\"----------------------------------------------\")"
      ],
      "execution_count": 0,
      "outputs": [
        {
          "output_type": "stream",
          "text": [
            "Test score 0.8850245242242204\n",
            "----------------------------------------------\n"
          ],
          "name": "stdout"
        }
      ]
    },
    {
      "cell_type": "markdown",
      "metadata": {
        "colab_type": "text",
        "id": "33EH7vFdKBty"
      },
      "source": [
        "## Fine tuning SVR"
      ]
    },
    {
      "cell_type": "code",
      "metadata": {
        "colab_type": "code",
        "outputId": "f7fc4fb1-be79-43f5-f54e-fa02cc6d3c0a",
        "id": "OTPFUuD4KBt0",
        "colab": {
          "base_uri": "https://localhost:8080/",
          "height": 127
        }
      },
      "source": [
        "best_kernel = 'rbf'\n",
        "kernels = ['rbf', 'linear']\n",
        "max_validation_score = 0\n",
        "for k in kernels:\n",
        "  reg = SVR(kernel = k)\n",
        "  reg.fit(training_set, training_labels[:, 1])\n",
        "\n",
        "  training_preds = reg.predict(training_set)\n",
        "  validation_preds = reg.predict(validation_set)\n",
        "\n",
        "  validation_score = 1-mean_absolute_error(validation_labels[:, 1], validation_preds)\n",
        "\n",
        "  print(\"Training score \" + str(1-mean_absolute_error(training_labels[:, 1], training_preds)))\n",
        "  print(\"Validation score \" + str(validation_score))\n",
        "  print(\"----------------------------------------------\")\n",
        "\n",
        "  if(validation_score > max_validation_score):\n",
        "    best_kernel = k\n",
        "    max_validation_score = validation_score"
      ],
      "execution_count": 0,
      "outputs": [
        {
          "output_type": "stream",
          "text": [
            "Training score 0.9257711409397875\n",
            "Validation score 0.8841101996112208\n",
            "----------------------------------------------\n",
            "Training score 0.9128971308217052\n",
            "Validation score 0.843294717386444\n",
            "----------------------------------------------\n"
          ],
          "name": "stdout"
        }
      ]
    },
    {
      "cell_type": "code",
      "metadata": {
        "colab_type": "code",
        "outputId": "262726bb-5f71-4bb5-a200-a1127fab4c3c",
        "id": "6xGcH2adKBuB",
        "colab": {
          "base_uri": "https://localhost:8080/",
          "height": 293
        }
      },
      "source": [
        "best_C = 1\n",
        "regu = [0.01, 0.1, 1, 10, 100]\n",
        "max_validation_score = 0\n",
        "for c in regu:\n",
        "  reg = SVR(kernel = best_kernel, C = c)\n",
        "  reg.fit(training_set, training_labels[:, 1])\n",
        "\n",
        "  training_preds = reg.predict(training_set)\n",
        "  validation_preds = reg.predict(validation_set)\n",
        "\n",
        "  validation_score = 1-mean_absolute_error(validation_labels[:, 1], validation_preds)\n",
        "\n",
        "  print(\"Training score \" + str(1-mean_absolute_error(training_labels[:, 1], training_preds)))\n",
        "  print(\"Validation score \" + str(validation_score))\n",
        "  print(\"----------------------------------------------\")\n",
        "\n",
        "  if(validation_score > max_validation_score):\n",
        "    best_C = c\n",
        "    max_validation_score = validation_score"
      ],
      "execution_count": 0,
      "outputs": [
        {
          "output_type": "stream",
          "text": [
            "Training score 0.8893890498073392\n",
            "Validation score 0.8873929322384199\n",
            "----------------------------------------------\n",
            "Training score 0.9101786921293789\n",
            "Validation score 0.8869745138392506\n",
            "----------------------------------------------\n",
            "Training score 0.9257711409397875\n",
            "Validation score 0.8841101996112208\n",
            "----------------------------------------------\n",
            "Training score 0.9257041995296463\n",
            "Validation score 0.8825725341141313\n",
            "----------------------------------------------\n",
            "Training score 0.9255796583903911\n",
            "Validation score 0.88187531730268\n",
            "----------------------------------------------\n"
          ],
          "name": "stdout"
        }
      ]
    },
    {
      "cell_type": "markdown",
      "metadata": {
        "colab_type": "text",
        "id": "qUTeZnFlKBuN"
      },
      "source": [
        "## Test score SVR"
      ]
    },
    {
      "cell_type": "code",
      "metadata": {
        "colab_type": "code",
        "outputId": "125523ea-6192-4c96-f984-3d8f3cecead7",
        "id": "UaYAxipOKBuP",
        "colab": {
          "base_uri": "https://localhost:8080/",
          "height": 54
        }
      },
      "source": [
        "reg = SVR(kernel = best_kernel, C = best_C)\n",
        "reg.fit(np.concatenate((training_set, validation_set), axis = 0), np.concatenate((training_labels[:, 1], validation_labels[:, 1])))\n",
        "\n",
        "testing_preds = reg.predict(testing_set)\n",
        "\n",
        "testing_score = 1-mean_absolute_error(testing_labels[:, 1], testing_preds)\n",
        "\n",
        "print(\"Test score \" + str(testing_score))\n",
        "print(\"----------------------------------------------\")"
      ],
      "execution_count": 0,
      "outputs": [
        {
          "output_type": "stream",
          "text": [
            "Test score 0.8873554295999133\n",
            "----------------------------------------------\n"
          ],
          "name": "stdout"
        }
      ]
    },
    {
      "cell_type": "code",
      "metadata": {
        "colab_type": "code",
        "id": "v9bwWl6SKBuc",
        "colab": {}
      },
      "source": [
        ""
      ],
      "execution_count": 0,
      "outputs": []
    },
    {
      "cell_type": "markdown",
      "metadata": {
        "colab_type": "text",
        "id": "qB3lRlnhKDqU"
      },
      "source": [
        "# Conc"
      ]
    },
    {
      "cell_type": "markdown",
      "metadata": {
        "colab_type": "text",
        "id": "uIXpWHQCKDqg"
      },
      "source": [
        "## Fine tuning for Random forest regressor"
      ]
    },
    {
      "cell_type": "code",
      "metadata": {
        "colab_type": "code",
        "outputId": "e2e2084a-0990-4785-bc13-ce0a7dd0d5e0",
        "id": "OakvBAGMKDqo",
        "colab": {
          "base_uri": "https://localhost:8080/",
          "height": 605
        }
      },
      "source": [
        "# Checking for max_depth\n",
        "\n",
        "best_depth = 3\n",
        "max_validation_score = 0\n",
        "for i in range(3, 11):\n",
        "  reg = RandomForestRegressor(max_depth = i)\n",
        "  reg.fit(training_set, training_labels[:, 2])\n",
        "\n",
        "  training_preds = reg.predict(training_set)\n",
        "  validation_preds = reg.predict(validation_set)\n",
        "\n",
        "  validation_score = 1-mean_absolute_error(validation_labels[:, 2], validation_preds)\n",
        "\n",
        "  print(\"MAX DEPTH \" + str(i))\n",
        "  print(\"Training score \" + str(1-mean_absolute_error(training_labels[:, 2], training_preds)))\n",
        "  print(\"Validation score \" + str(validation_score))\n",
        "  print(\"----------------------------------------------\")\n",
        "\n",
        "  if(validation_score > max_validation_score):\n",
        "    best_depth = i\n",
        "    max_validation_score = validation_score"
      ],
      "execution_count": 0,
      "outputs": [
        {
          "output_type": "stream",
          "text": [
            "MAX DEPTH 3\n",
            "Training score 0.8751743443103762\n",
            "Validation score 0.8745248863186674\n",
            "----------------------------------------------\n",
            "MAX DEPTH 4\n",
            "Training score 0.8757346375115849\n",
            "Validation score 0.8746955205752939\n",
            "----------------------------------------------\n",
            "MAX DEPTH 5\n",
            "Training score 0.8762446673612514\n",
            "Validation score 0.8746874092362185\n",
            "----------------------------------------------\n",
            "MAX DEPTH 6\n",
            "Training score 0.8767772057227831\n",
            "Validation score 0.8749083338315637\n",
            "----------------------------------------------\n",
            "MAX DEPTH 7\n",
            "Training score 0.8773137175711131\n",
            "Validation score 0.8750650484590539\n",
            "----------------------------------------------\n",
            "MAX DEPTH 8\n",
            "Training score 0.8777931149834707\n",
            "Validation score 0.8749870344429895\n",
            "----------------------------------------------\n",
            "MAX DEPTH 9\n",
            "Training score 0.8784250933442558\n",
            "Validation score 0.8750860611173932\n",
            "----------------------------------------------\n",
            "MAX DEPTH 10\n",
            "Training score 0.879072976047128\n",
            "Validation score 0.875041172198895\n",
            "----------------------------------------------\n"
          ],
          "name": "stdout"
        }
      ]
    },
    {
      "cell_type": "code",
      "metadata": {
        "colab_type": "code",
        "id": "orlhR3hbKDq_",
        "colab": {}
      },
      "source": [
        "#checking for best criterion\n",
        "criterion = ['mse', 'mae']\n",
        "best_criterion = 'mse'\n",
        "max_validation_score = 0\n",
        "\n",
        "for c in criterion:\n",
        "  reg = RandomForestRegressor(max_depth = best_depth, criterion = c)\n",
        "  reg.fit(training_set, training_labels[:, 0])\n",
        "\n",
        "  training_preds = reg.predict(training_set)\n",
        "  validation_preds = reg.predict(validation_set)\n",
        "\n",
        "  validation_score = 1-mean_absolute_error(validation_labels[:, 0], validation_preds)\n",
        "\n",
        "  print(\"CRITERION: \" + c)\n",
        "  print(\"Training score \" + str(1-mean_absolute_error(training_labels[:, 0], training_preds)))\n",
        "  print(\"Validation score \" + str(validation_score))\n",
        "  print(\"----------------------------------------------\")\n",
        "\n",
        "  if(validation_score > max_validation_score):\n",
        "    best_criterion = c\n",
        "    max_validation_score = validation_score"
      ],
      "execution_count": 0,
      "outputs": []
    },
    {
      "cell_type": "markdown",
      "metadata": {
        "colab_type": "text",
        "id": "ZkwGTokQKDrV"
      },
      "source": [
        "## Test score Random Forest Regressor"
      ]
    },
    {
      "cell_type": "code",
      "metadata": {
        "colab_type": "code",
        "id": "Qbg7ICVdKDrY",
        "outputId": "00859e5e-86ac-4971-a676-9c36a95ad7b5",
        "colab": {
          "base_uri": "https://localhost:8080/",
          "height": 54
        }
      },
      "source": [
        "reg = RandomForestRegressor(max_depth = best_depth, criterion = best_criterion)\n",
        "reg.fit(np.concatenate((training_set, validation_set), axis = 0), np.concatenate((training_labels[:, 2], validation_labels[:, 2])))\n",
        "\n",
        "testing_preds = reg.predict(testing_set)\n",
        "\n",
        "testing_score = 1-mean_absolute_error(testing_labels[:, 2], testing_preds)\n",
        "\n",
        "print(\"Test score \" + str(testing_score))\n",
        "print(\"----------------------------------------------\")"
      ],
      "execution_count": 0,
      "outputs": [
        {
          "output_type": "stream",
          "text": [
            "Test score 0.8760602901596064\n",
            "----------------------------------------------\n"
          ],
          "name": "stdout"
        }
      ]
    },
    {
      "cell_type": "markdown",
      "metadata": {
        "colab_type": "text",
        "id": "bTn7OYBQKDrn"
      },
      "source": [
        "## Fine tuning SVR"
      ]
    },
    {
      "cell_type": "code",
      "metadata": {
        "colab_type": "code",
        "id": "sagfeqEvKDrs",
        "colab": {}
      },
      "source": [
        "best_kernel = 'rbf'\n",
        "kernels = ['rbf', 'linear']\n",
        "max_validation_score = 0\n",
        "for k in kernels:\n",
        "  reg = SVR(kernel = k)\n",
        "  reg.fit(training_set, training_labels[:, 2])\n",
        "\n",
        "  training_preds = reg.predict(training_set)\n",
        "  validation_preds = reg.predict(validation_set)\n",
        "\n",
        "  validation_score = 1-mean_absolute_error(validation_labels[:, 2], validation_preds)\n",
        "\n",
        "  print(\"Training score \" + str(1-mean_absolute_error(training_labels[:, 2], training_preds)))\n",
        "  print(\"Validation score \" + str(validation_score))\n",
        "  print(\"----------------------------------------------\")\n",
        "\n",
        "  if(validation_score > max_validation_score):\n",
        "    best_kernel = k\n",
        "    max_validation_score = validation_score"
      ],
      "execution_count": 0,
      "outputs": []
    },
    {
      "cell_type": "code",
      "metadata": {
        "colab_type": "code",
        "id": "tu51IiHBKDr6",
        "outputId": "7a36d446-9206-4694-e8a2-304bdb3973c6",
        "colab": {
          "base_uri": "https://localhost:8080/",
          "height": 293
        }
      },
      "source": [
        "best_C = 1\n",
        "regu = [0.01, 0.1, 1, 10, 100]\n",
        "max_validation_score = 0\n",
        "for c in regu:\n",
        "  reg = SVR(kernel = best_kernel, C = c)\n",
        "  reg.fit(training_set, training_labels[:, 2])\n",
        "\n",
        "  training_preds = reg.predict(training_set)\n",
        "  validation_preds = reg.predict(validation_set)\n",
        "\n",
        "  validation_score = 1-mean_absolute_error(validation_labels[:, 2], validation_preds)\n",
        "\n",
        "  print(\"Training score \" + str(1-mean_absolute_error(training_labels[:, 2], training_preds)))\n",
        "  print(\"Validation score \" + str(validation_score))\n",
        "  print(\"----------------------------------------------\")\n",
        "\n",
        "  if(validation_score > max_validation_score):\n",
        "    best_C = c\n",
        "    max_validation_score = validation_score"
      ],
      "execution_count": 0,
      "outputs": [
        {
          "output_type": "stream",
          "text": [
            "Training score 0.8818966964918611\n",
            "Validation score 0.8776189057406053\n",
            "----------------------------------------------\n",
            "Training score 0.9056307187670537\n",
            "Validation score 0.87873235029469\n",
            "----------------------------------------------\n",
            "Training score 0.9238430335726666\n",
            "Validation score 0.8784393214518995\n",
            "----------------------------------------------\n",
            "Training score 0.9237523621889471\n",
            "Validation score 0.8765956074277137\n",
            "----------------------------------------------\n",
            "Training score 0.9237523621889463\n",
            "Validation score 0.8765956074277144\n",
            "----------------------------------------------\n"
          ],
          "name": "stdout"
        }
      ]
    },
    {
      "cell_type": "markdown",
      "metadata": {
        "colab_type": "text",
        "id": "EYdUMD4gKDsH"
      },
      "source": [
        "## Test score SVR"
      ]
    },
    {
      "cell_type": "code",
      "metadata": {
        "colab_type": "code",
        "id": "BDndEWnSKDsK",
        "outputId": "61fcac79-c57c-4d41-fadc-580a2aacf4be",
        "colab": {
          "base_uri": "https://localhost:8080/",
          "height": 54
        }
      },
      "source": [
        "reg = SVR(kernel = best_kernel, C = best_C)\n",
        "reg.fit(np.concatenate((training_set, validation_set), axis = 0), np.concatenate((training_labels[:, 2], validation_labels[:, 2])))\n",
        "\n",
        "testing_preds = reg.predict(testing_set)\n",
        "\n",
        "testing_score = 1-mean_absolute_error(testing_labels[:, 2], testing_preds)\n",
        "\n",
        "print(\"Test score \" + str(testing_score))\n",
        "print(\"----------------------------------------------\")"
      ],
      "execution_count": 0,
      "outputs": [
        {
          "output_type": "stream",
          "text": [
            "Test score 0.8805763859258383\n",
            "----------------------------------------------\n"
          ],
          "name": "stdout"
        }
      ]
    },
    {
      "cell_type": "code",
      "metadata": {
        "colab_type": "code",
        "id": "UL6UoO5RKDsX",
        "colab": {}
      },
      "source": [
        ""
      ],
      "execution_count": 0,
      "outputs": []
    },
    {
      "cell_type": "markdown",
      "metadata": {
        "colab_type": "text",
        "id": "EW_-4ft3KFPS"
      },
      "source": [
        "# Extra"
      ]
    },
    {
      "cell_type": "markdown",
      "metadata": {
        "colab_type": "text",
        "id": "6ucr8spXKFPe"
      },
      "source": [
        "## Fine tuning for Random forest regressor"
      ]
    },
    {
      "cell_type": "code",
      "metadata": {
        "colab_type": "code",
        "id": "_1w1wWsWKFPl",
        "outputId": "83dfbc91-9b6d-4bab-9f5e-51f9250cb004",
        "colab": {
          "base_uri": "https://localhost:8080/",
          "height": 605
        }
      },
      "source": [
        "# Checking for max_depth\n",
        "\n",
        "best_depth = 3\n",
        "max_validation_score = 0\n",
        "for i in range(3, 11):\n",
        "  reg = RandomForestRegressor(max_depth = i)\n",
        "  reg.fit(training_set, training_labels[:, 3])\n",
        "\n",
        "  training_preds = reg.predict(training_set)\n",
        "  validation_preds = reg.predict(validation_set)\n",
        "\n",
        "  validation_score = 1-mean_absolute_error(validation_labels[:, 3], validation_preds)\n",
        "\n",
        "  print(\"MAX DEPTH \" + str(i))\n",
        "  print(\"Training score \" + str(1-mean_absolute_error(training_labels[:, 3], training_preds)))\n",
        "  print(\"Validation score \" + str(validation_score))\n",
        "  print(\"----------------------------------------------\")\n",
        "\n",
        "  if(validation_score > max_validation_score):\n",
        "    best_depth = i\n",
        "    max_validation_score = validation_score"
      ],
      "execution_count": 0,
      "outputs": [
        {
          "output_type": "stream",
          "text": [
            "MAX DEPTH 3\n",
            "Training score 0.8783010879731794\n",
            "Validation score 0.8814384764364366\n",
            "----------------------------------------------\n",
            "MAX DEPTH 4\n",
            "Training score 0.879030816481202\n",
            "Validation score 0.8815508582784013\n",
            "----------------------------------------------\n",
            "MAX DEPTH 5\n",
            "Training score 0.8796327323457737\n",
            "Validation score 0.8817491745773992\n",
            "----------------------------------------------\n",
            "MAX DEPTH 6\n",
            "Training score 0.8804358384029846\n",
            "Validation score 0.881814587808113\n",
            "----------------------------------------------\n",
            "MAX DEPTH 7\n",
            "Training score 0.8812833842214898\n",
            "Validation score 0.8818173391460928\n",
            "----------------------------------------------\n",
            "MAX DEPTH 8\n",
            "Training score 0.8821367172629486\n",
            "Validation score 0.8820559110368774\n",
            "----------------------------------------------\n",
            "MAX DEPTH 9\n",
            "Training score 0.8830264046048426\n",
            "Validation score 0.8821417621078999\n",
            "----------------------------------------------\n",
            "MAX DEPTH 10\n",
            "Training score 0.8839042786567791\n",
            "Validation score 0.8820310078218387\n",
            "----------------------------------------------\n"
          ],
          "name": "stdout"
        }
      ]
    },
    {
      "cell_type": "code",
      "metadata": {
        "colab_type": "code",
        "id": "3mdWeJ_8KFP-",
        "colab": {}
      },
      "source": [
        "#checking for best criterion\n",
        "criterion = ['mse', 'mae']\n",
        "best_criterion = 'mse'\n",
        "max_validation_score = 0\n",
        "\n",
        "for c in criterion:\n",
        "  reg = RandomForestRegressor(max_depth = best_depth, criterion = c)\n",
        "  reg.fit(training_set, training_labels[:, 0])\n",
        "\n",
        "  training_preds = reg.predict(training_set)\n",
        "  validation_preds = reg.predict(validation_set)\n",
        "\n",
        "  validation_score = 1-mean_absolute_error(validation_labels[:, 0], validation_preds)\n",
        "\n",
        "  print(\"CRITERION: \" + c)\n",
        "  print(\"Training score \" + str(1-mean_absolute_error(training_labels[:, 0], training_preds)))\n",
        "  print(\"Validation score \" + str(validation_score))\n",
        "  print(\"----------------------------------------------\")\n",
        "\n",
        "  if(validation_score > max_validation_score):\n",
        "    best_criterion = c\n",
        "    max_validation_score = validation_score"
      ],
      "execution_count": 0,
      "outputs": []
    },
    {
      "cell_type": "markdown",
      "metadata": {
        "colab_type": "text",
        "id": "_HKybIgHKFQQ"
      },
      "source": [
        "## Test score Random Forest Regressor"
      ]
    },
    {
      "cell_type": "code",
      "metadata": {
        "colab_type": "code",
        "id": "oxr3X-TxKFQU",
        "outputId": "baffa970-cd61-40fc-9493-d3fe7b2afce6",
        "colab": {
          "base_uri": "https://localhost:8080/",
          "height": 54
        }
      },
      "source": [
        "reg = RandomForestRegressor(max_depth = best_depth, criterion = best_criterion)\n",
        "reg.fit(np.concatenate((training_set, validation_set), axis = 0), np.concatenate((training_labels[:, 3], validation_labels[:, 3])))\n",
        "\n",
        "testing_preds = reg.predict(testing_set)\n",
        "\n",
        "testing_score = 1-mean_absolute_error(testing_labels[:, 3], testing_preds)\n",
        "\n",
        "print(\"Test score \" + str(testing_score))\n",
        "print(\"----------------------------------------------\")"
      ],
      "execution_count": 0,
      "outputs": [
        {
          "output_type": "stream",
          "text": [
            "Test score 0.8805168483170316\n",
            "----------------------------------------------\n"
          ],
          "name": "stdout"
        }
      ]
    },
    {
      "cell_type": "markdown",
      "metadata": {
        "colab_type": "text",
        "id": "cjsrFmjTKFQh"
      },
      "source": [
        "## Fine tuning SVR"
      ]
    },
    {
      "cell_type": "code",
      "metadata": {
        "colab_type": "code",
        "id": "aZY0wkfnKFQo",
        "colab": {}
      },
      "source": [
        "best_kernel = 'rbf'\n",
        "kernels = ['rbf', 'linear']\n",
        "max_validation_score = 0\n",
        "for k in kernels:\n",
        "  reg = SVR(kernel = k)\n",
        "  reg.fit(training_set, training_labels[:, 3])\n",
        "\n",
        "  training_preds = reg.predict(training_set)\n",
        "  validation_preds = reg.predict(validation_set)\n",
        "\n",
        "  validation_score = 1-mean_absolute_error(validation_labels[:, 3], validation_preds)\n",
        "\n",
        "  print(\"Training score \" + str(1-mean_absolute_error(training_labels[:, 3], training_preds)))\n",
        "  print(\"Validation score \" + str(validation_score))\n",
        "  print(\"----------------------------------------------\")\n",
        "\n",
        "  if(validation_score > max_validation_score):\n",
        "    best_kernel = k\n",
        "    max_validation_score = validation_score"
      ],
      "execution_count": 0,
      "outputs": []
    },
    {
      "cell_type": "code",
      "metadata": {
        "colab_type": "code",
        "id": "1UIhzhhhKFQ0",
        "outputId": "5563859b-cb12-4bba-c14f-a2e77f9c3cc0",
        "colab": {
          "base_uri": "https://localhost:8080/",
          "height": 293
        }
      },
      "source": [
        "best_C = 1\n",
        "regu = [0.01, 0.1, 1, 10, 100]\n",
        "max_validation_score = 0\n",
        "for c in regu:\n",
        "  reg = SVR(kernel = best_kernel, C = c)\n",
        "  reg.fit(training_set, training_labels[:, 3])\n",
        "\n",
        "  training_preds = reg.predict(training_set)\n",
        "  validation_preds = reg.predict(validation_set)\n",
        "\n",
        "  validation_score = 1-mean_absolute_error(validation_labels[:, 3], validation_preds)\n",
        "\n",
        "  print(\"Training score \" + str(1-mean_absolute_error(training_labels[:, 3], training_preds)))\n",
        "  print(\"Validation score \" + str(validation_score))\n",
        "  print(\"----------------------------------------------\")\n",
        "\n",
        "  if(validation_score > max_validation_score):\n",
        "    best_C = c\n",
        "    max_validation_score = validation_score"
      ],
      "execution_count": 0,
      "outputs": [
        {
          "output_type": "stream",
          "text": [
            "Training score 0.8834759093679211\n",
            "Validation score 0.8836444201236061\n",
            "----------------------------------------------\n",
            "Training score 0.9059247483314015\n",
            "Validation score 0.8837652506430237\n",
            "----------------------------------------------\n",
            "Training score 0.9239878102181113\n",
            "Validation score 0.8811863043753343\n",
            "----------------------------------------------\n",
            "Training score 0.924324712405039\n",
            "Validation score 0.8792888597360552\n",
            "----------------------------------------------\n",
            "Training score 0.9243025959556647\n",
            "Validation score 0.8792602742780753\n",
            "----------------------------------------------\n"
          ],
          "name": "stdout"
        }
      ]
    },
    {
      "cell_type": "markdown",
      "metadata": {
        "colab_type": "text",
        "id": "mj6zXxcoKFRC"
      },
      "source": [
        "## Test score SVR"
      ]
    },
    {
      "cell_type": "code",
      "metadata": {
        "colab_type": "code",
        "id": "N3MLjyqpKFRE",
        "outputId": "8778b318-a4c3-4556-92aa-ca037e0776f0",
        "colab": {
          "base_uri": "https://localhost:8080/",
          "height": 54
        }
      },
      "source": [
        "reg = SVR(kernel = best_kernel, C = best_C)\n",
        "reg.fit(np.concatenate((training_set, validation_set), axis = 0), np.concatenate((training_labels[:, 3], validation_labels[:, 3])))\n",
        "\n",
        "testing_preds = reg.predict(testing_set)\n",
        "\n",
        "testing_score = 1-mean_absolute_error(testing_labels[:, 3], testing_preds)\n",
        "\n",
        "print(\"Test score \" + str(testing_score))\n",
        "print(\"----------------------------------------------\")"
      ],
      "execution_count": 0,
      "outputs": [
        {
          "output_type": "stream",
          "text": [
            "Test score 0.8831100070766744\n",
            "----------------------------------------------\n"
          ],
          "name": "stdout"
        }
      ]
    },
    {
      "cell_type": "code",
      "metadata": {
        "colab_type": "code",
        "id": "5qjxjyt3KFRR",
        "colab": {}
      },
      "source": [
        ""
      ],
      "execution_count": 0,
      "outputs": []
    },
    {
      "cell_type": "markdown",
      "metadata": {
        "colab_type": "text",
        "id": "OKchB3uWKGZp"
      },
      "source": [
        "# Agree"
      ]
    },
    {
      "cell_type": "markdown",
      "metadata": {
        "colab_type": "text",
        "id": "184VWePYKGZt"
      },
      "source": [
        "## Fine tuning for Random forest regressor"
      ]
    },
    {
      "cell_type": "code",
      "metadata": {
        "colab_type": "code",
        "id": "u5WQJCkmKGZw",
        "outputId": "d7c6a03d-36c4-46d5-b5dd-05d67eb48e2f",
        "colab": {
          "base_uri": "https://localhost:8080/",
          "height": 605
        }
      },
      "source": [
        "# Checking for max_depth\n",
        "\n",
        "best_depth = 3\n",
        "max_validation_score = 0\n",
        "for i in range(3, 11):\n",
        "  reg = RandomForestRegressor(max_depth = i)\n",
        "  reg.fit(training_set, training_labels[:, 4])\n",
        "\n",
        "  training_preds = reg.predict(training_set)\n",
        "  validation_preds = reg.predict(validation_set)\n",
        "\n",
        "  validation_score = 1-mean_absolute_error(validation_labels[:, 4], validation_preds)\n",
        "\n",
        "  print(\"MAX DEPTH \" + str(i))\n",
        "  print(\"Training score \" + str(1-mean_absolute_error(training_labels[:, 4], training_preds)))\n",
        "  print(\"Validation score \" + str(validation_score))\n",
        "  print(\"----------------------------------------------\")\n",
        "\n",
        "  if(validation_score > max_validation_score):\n",
        "    best_depth = i\n",
        "    max_validation_score = validation_score"
      ],
      "execution_count": 0,
      "outputs": [
        {
          "output_type": "stream",
          "text": [
            "MAX DEPTH 3\n",
            "Training score 0.8925517204137972\n",
            "Validation score 0.8991315423899242\n",
            "----------------------------------------------\n",
            "MAX DEPTH 4\n",
            "Training score 0.8928825278234371\n",
            "Validation score 0.8991407732773586\n",
            "----------------------------------------------\n",
            "MAX DEPTH 5\n",
            "Training score 0.8932549541787956\n",
            "Validation score 0.8991494543405618\n",
            "----------------------------------------------\n",
            "MAX DEPTH 6\n",
            "Training score 0.8935960255217656\n",
            "Validation score 0.8991893152449005\n",
            "----------------------------------------------\n",
            "MAX DEPTH 7\n",
            "Training score 0.8939641448279094\n",
            "Validation score 0.8991139592573967\n",
            "----------------------------------------------\n",
            "MAX DEPTH 8\n",
            "Training score 0.8944602800482364\n",
            "Validation score 0.8991228978919182\n",
            "----------------------------------------------\n",
            "MAX DEPTH 9\n",
            "Training score 0.8949070128540133\n",
            "Validation score 0.8990931742302308\n",
            "----------------------------------------------\n",
            "MAX DEPTH 10\n",
            "Training score 0.895156489855345\n",
            "Validation score 0.8991515945265055\n",
            "----------------------------------------------\n"
          ],
          "name": "stdout"
        }
      ]
    },
    {
      "cell_type": "code",
      "metadata": {
        "colab_type": "code",
        "id": "QfU1cHy4KGZ9",
        "colab": {}
      },
      "source": [
        "#checking for best criterion\n",
        "criterion = ['mse', 'mae']\n",
        "best_criterion = 'mse'\n",
        "max_validation_score = 0\n",
        "\n",
        "for c in criterion:\n",
        "  reg = RandomForestRegressor(max_depth = best_depth, criterion = c)\n",
        "  reg.fit(training_set, training_labels[:, 0])\n",
        "\n",
        "  training_preds = reg.predict(training_set)\n",
        "  validation_preds = reg.predict(validation_set)\n",
        "\n",
        "  validation_score = 1-mean_absolute_error(validation_labels[:, 0], validation_preds)\n",
        "\n",
        "  print(\"CRITERION: \" + c)\n",
        "  print(\"Training score \" + str(1-mean_absolute_error(training_labels[:, 0], training_preds)))\n",
        "  print(\"Validation score \" + str(validation_score))\n",
        "  print(\"----------------------------------------------\")\n",
        "\n",
        "  if(validation_score > max_validation_score):\n",
        "    best_criterion = c\n",
        "    max_validation_score = validation_score"
      ],
      "execution_count": 0,
      "outputs": []
    },
    {
      "cell_type": "markdown",
      "metadata": {
        "colab_type": "text",
        "id": "R7fkxrV-KGaG"
      },
      "source": [
        "## Test score Random Forest Regressor"
      ]
    },
    {
      "cell_type": "code",
      "metadata": {
        "colab_type": "code",
        "id": "eQYUwlncKGaI",
        "outputId": "f289a536-ae77-48ff-c43e-b635cdba7403",
        "colab": {
          "base_uri": "https://localhost:8080/",
          "height": 54
        }
      },
      "source": [
        "reg = RandomForestRegressor(max_depth = best_depth, criterion = best_criterion)\n",
        "reg.fit(np.concatenate((training_set, validation_set), axis = 0), np.concatenate((training_labels[:, 4], validation_labels[:, 4])))\n",
        "\n",
        "testing_preds = reg.predict(testing_set)\n",
        "\n",
        "testing_score = 1-mean_absolute_error(testing_labels[:, 4], testing_preds)\n",
        "\n",
        "print(\"Test score \" + str(testing_score))\n",
        "print(\"----------------------------------------------\")"
      ],
      "execution_count": 0,
      "outputs": [
        {
          "output_type": "stream",
          "text": [
            "Test score 0.8940906560917239\n",
            "----------------------------------------------\n"
          ],
          "name": "stdout"
        }
      ]
    },
    {
      "cell_type": "markdown",
      "metadata": {
        "colab_type": "text",
        "id": "8pz2b5yjKGaV"
      },
      "source": [
        "## Fine tuning SVR"
      ]
    },
    {
      "cell_type": "code",
      "metadata": {
        "colab_type": "code",
        "id": "M5ktzi-pKGaW",
        "colab": {}
      },
      "source": [
        "best_kernel = 'rbf'\n",
        "kernels = ['rbf', 'linear']\n",
        "max_validation_score = 0\n",
        "for k in kernels:\n",
        "  reg = SVR(kernel = k)\n",
        "  reg.fit(training_set, training_labels[:, 4])\n",
        "\n",
        "  training_preds = reg.predict(training_set)\n",
        "  validation_preds = reg.predict(validation_set)\n",
        "\n",
        "  validation_score = 1-mean_absolute_error(validation_labels[:, 4], validation_preds)\n",
        "\n",
        "  print(\"Training score \" + str(1-mean_absolute_error(training_labels[:, 4], training_preds)))\n",
        "  print(\"Validation score \" + str(validation_score))\n",
        "  print(\"----------------------------------------------\")\n",
        "\n",
        "  if(validation_score > max_validation_score):\n",
        "    best_kernel = k\n",
        "    max_validation_score = validation_score"
      ],
      "execution_count": 0,
      "outputs": []
    },
    {
      "cell_type": "code",
      "metadata": {
        "colab_type": "code",
        "id": "3UZK-ieBKGaj",
        "outputId": "a8bff7b8-8e3f-4275-a689-795ec863e69d",
        "colab": {
          "base_uri": "https://localhost:8080/"
        }
      },
      "source": [
        "best_C = 1\n",
        "regu = [0.01, 0.1, 1, 10, 100]\n",
        "max_validation_score = 0\n",
        "for c in regu:\n",
        "  reg = SVR(kernel = best_kernel, C = c)\n",
        "  reg.fit(training_set, training_labels[:, 4])\n",
        "\n",
        "  training_preds = reg.predict(training_set)\n",
        "  validation_preds = reg.predict(validation_set)\n",
        "\n",
        "  validation_score = 1-mean_absolute_error(validation_labels[:, 4], validation_preds)\n",
        "\n",
        "  print(\"Training score \" + str(1-mean_absolute_error(training_labels[:, 4], training_preds)))\n",
        "  print(\"Validation score \" + str(validation_score))\n",
        "  print(\"----------------------------------------------\")\n",
        "\n",
        "  if(validation_score > max_validation_score):\n",
        "    best_C = c\n",
        "    max_validation_score = validation_score"
      ],
      "execution_count": 28,
      "outputs": [
        {
          "output_type": "stream",
          "text": [
            "Training score 0.8975713085479131\n",
            "Validation score 0.9010766507381235\n",
            "----------------------------------------------\n",
            "Training score 0.9148860122561876\n",
            "Validation score 0.9002332279533054\n",
            "----------------------------------------------\n",
            "Training score 0.9272940522751374\n",
            "Validation score 0.8969719743040769\n",
            "----------------------------------------------\n",
            "Training score 0.9271861351519504\n",
            "Validation score 0.8955871932403036\n",
            "----------------------------------------------\n",
            "Training score 0.8975713085479131\n",
            "Validation score 0.9010766507381235\n",
            "----------------------------------------------\n",
            "Training score 0.9148860122561876\n",
            "Validation score 0.9002332279533054\n",
            "----------------------------------------------\n",
            "Training score 0.9272940522751374\n",
            "Validation score 0.8969719743040769\n",
            "----------------------------------------------\n",
            "Training score 0.9271861351519504\n",
            "Validation score 0.8955871932403036\n",
            "----------------------------------------------\n",
            "Training score 0.9271743141796546\n",
            "Validation score 0.8952634858000157\n",
            "----------------------------------------------\n"
          ],
          "name": "stdout"
        }
      ]
    },
    {
      "cell_type": "markdown",
      "metadata": {
        "colab_type": "text",
        "id": "Ec-K082CKGau"
      },
      "source": [
        "## Test score SVR"
      ]
    },
    {
      "cell_type": "code",
      "metadata": {
        "colab_type": "code",
        "id": "GUUej4oUKGaw",
        "colab": {
          "base_uri": "https://localhost:8080/",
          "height": 90
        },
        "outputId": "d698f972-61a1-4b6e-a1e7-db19d8b28d86"
      },
      "source": [
        "reg = SVR(kernel = best_kernel, C = best_C)\n",
        "reg.fit(np.concatenate((training_set, validation_set), axis = 0), np.concatenate((training_labels[:, 4], validation_labels[:, 4])))\n",
        "\n",
        "testing_preds = reg.predict(testing_set)\n",
        "\n",
        "testing_score = 1-mean_absolute_error(testing_labels[:, 4], testing_preds)\n",
        "\n",
        "print(\"Test score \" + str(testing_score))\n",
        "print(\"----------------------------------------------\")"
      ],
      "execution_count": 29,
      "outputs": [
        {
          "output_type": "stream",
          "text": [
            "Test score 0.8969296713459083\n",
            "----------------------------------------------\n",
            "Test score 0.8969296713459083\n",
            "----------------------------------------------\n"
          ],
          "name": "stdout"
        }
      ]
    },
    {
      "cell_type": "code",
      "metadata": {
        "colab_type": "code",
        "id": "JK8n5t8HKGa7",
        "colab": {}
      },
      "source": [
        ""
      ],
      "execution_count": 0,
      "outputs": []
    },
    {
      "cell_type": "markdown",
      "metadata": {
        "colab_type": "text",
        "id": "fmVL5C5JKHh4"
      },
      "source": [
        "# Neuro"
      ]
    },
    {
      "cell_type": "markdown",
      "metadata": {
        "colab_type": "text",
        "id": "mmFYKG8oKHh7"
      },
      "source": [
        "## Fine tuning for Random forest regressor"
      ]
    },
    {
      "cell_type": "code",
      "metadata": {
        "colab_type": "code",
        "id": "gw_a1Ux3KHh8",
        "colab": {
          "base_uri": "https://localhost:8080/",
          "height": 605
        },
        "outputId": "af8c90b7-25c2-446b-8275-ce1f7517a0d9"
      },
      "source": [
        "# Checking for max_depth\n",
        "\n",
        "best_depth = 3\n",
        "max_validation_score = 0\n",
        "for i in range(3, 11):\n",
        "  reg = RandomForestRegressor(max_depth = i)\n",
        "  reg.fit(training_set, training_labels[:, 5])\n",
        "\n",
        "  training_preds = reg.predict(training_set)\n",
        "  validation_preds = reg.predict(validation_set)\n",
        "\n",
        "  validation_score = 1-mean_absolute_error(validation_labels[:, 5], validation_preds)\n",
        "\n",
        "  print(\"MAX DEPTH \" + str(i))\n",
        "  print(\"Training score \" + str(1-mean_absolute_error(training_labels[:, 5], training_preds)))\n",
        "  print(\"Validation score \" + str(validation_score))\n",
        "  print(\"----------------------------------------------\")\n",
        "\n",
        "  if(validation_score > max_validation_score):\n",
        "    best_depth = i\n",
        "    max_validation_score = validation_score"
      ],
      "execution_count": 30,
      "outputs": [
        {
          "output_type": "stream",
          "text": [
            "MAX DEPTH 3\n",
            "Training score 0.8772249096470793\n",
            "Validation score 0.8792383661302469\n",
            "----------------------------------------------\n",
            "MAX DEPTH 4\n",
            "Training score 0.8777372378510517\n",
            "Validation score 0.8794020695215408\n",
            "----------------------------------------------\n",
            "MAX DEPTH 5\n",
            "Training score 0.8783204974267368\n",
            "Validation score 0.8793888080598596\n",
            "----------------------------------------------\n",
            "MAX DEPTH 6\n",
            "Training score 0.8789481300985269\n",
            "Validation score 0.8793967419883749\n",
            "----------------------------------------------\n",
            "MAX DEPTH 7\n",
            "Training score 0.8796507854755511\n",
            "Validation score 0.8794043195649925\n",
            "----------------------------------------------\n",
            "MAX DEPTH 8\n",
            "Training score 0.8802920018863691\n",
            "Validation score 0.8795289276256125\n",
            "----------------------------------------------\n",
            "MAX DEPTH 9\n",
            "Training score 0.8809874418203436\n",
            "Validation score 0.8795592411988615\n",
            "----------------------------------------------\n",
            "MAX DEPTH 10\n",
            "Training score 0.8818648816821696\n",
            "Validation score 0.8795558422447348\n",
            "----------------------------------------------\n"
          ],
          "name": "stdout"
        }
      ]
    },
    {
      "cell_type": "code",
      "metadata": {
        "colab_type": "code",
        "id": "PJJxD60tKHiE",
        "colab": {}
      },
      "source": [
        "#checking for best criterion\n",
        "criterion = ['mse', 'mae']\n",
        "best_criterion = 'mse'\n",
        "max_validation_score = 0\n",
        "\n",
        "for c in criterion:\n",
        "  reg = RandomForestRegressor(max_depth = best_depth, criterion = c)\n",
        "  reg.fit(training_set, training_labels[:, 0])\n",
        "\n",
        "  training_preds = reg.predict(training_set)\n",
        "  validation_preds = reg.predict(validation_set)\n",
        "\n",
        "  validation_score = 1-mean_absolute_error(validation_labels[:, 0], validation_preds)\n",
        "\n",
        "  print(\"CRITERION: \" + c)\n",
        "  print(\"Training score \" + str(1-mean_absolute_error(training_labels[:, 0], training_preds)))\n",
        "  print(\"Validation score \" + str(validation_score))\n",
        "  print(\"----------------------------------------------\")\n",
        "\n",
        "  if(validation_score > max_validation_score):\n",
        "    best_criterion = c\n",
        "    max_validation_score = validation_score"
      ],
      "execution_count": 0,
      "outputs": []
    },
    {
      "cell_type": "markdown",
      "metadata": {
        "colab_type": "text",
        "id": "Dek84ioEKHiL"
      },
      "source": [
        "## Test score Random Forest Regressor"
      ]
    },
    {
      "cell_type": "code",
      "metadata": {
        "colab_type": "code",
        "id": "QmlRCcYOKHiM",
        "colab": {
          "base_uri": "https://localhost:8080/",
          "height": 54
        },
        "outputId": "eac64033-61e5-425e-fc17-fe23d5294fdb"
      },
      "source": [
        "reg = RandomForestRegressor(max_depth = best_depth, criterion = best_criterion)\n",
        "reg.fit(np.concatenate((training_set, validation_set), axis = 0), np.concatenate((training_labels[:, 5], validation_labels[:, 5])))\n",
        "\n",
        "testing_preds = reg.predict(testing_set)\n",
        "\n",
        "testing_score = 1-mean_absolute_error(testing_labels[:, 5], testing_preds)\n",
        "\n",
        "print(\"Test score \" + str(testing_score))\n",
        "print(\"----------------------------------------------\")"
      ],
      "execution_count": 31,
      "outputs": [
        {
          "output_type": "stream",
          "text": [
            "Test score 0.8785027439178016\n",
            "----------------------------------------------\n"
          ],
          "name": "stdout"
        }
      ]
    },
    {
      "cell_type": "markdown",
      "metadata": {
        "colab_type": "text",
        "id": "chrXMpoJKHiT"
      },
      "source": [
        "## Fine tuning SVR"
      ]
    },
    {
      "cell_type": "code",
      "metadata": {
        "colab_type": "code",
        "id": "hFb2UgYBKHiV",
        "colab": {}
      },
      "source": [
        "best_kernel = 'rbf'\n",
        "kernels = ['rbf', 'linear']\n",
        "max_validation_score = 0\n",
        "for k in kernels:\n",
        "  reg = SVR(kernel = k)\n",
        "  reg.fit(training_set, training_labels[:, 5])\n",
        "\n",
        "  training_preds = reg.predict(training_set)\n",
        "  validation_preds = reg.predict(validation_set)\n",
        "\n",
        "  validation_score = 1-mean_absolute_error(validation_labels[:, 5], validation_preds)\n",
        "\n",
        "  print(\"Training score \" + str(1-mean_absolute_error(training_labels[:, 5], training_preds)))\n",
        "  print(\"Validation score \" + str(validation_score))\n",
        "  print(\"----------------------------------------------\")\n",
        "\n",
        "  if(validation_score > max_validation_score):\n",
        "    best_kernel = k\n",
        "    max_validation_score = validation_score"
      ],
      "execution_count": 0,
      "outputs": []
    },
    {
      "cell_type": "code",
      "metadata": {
        "colab_type": "code",
        "id": "QUyg_KZRKHie",
        "colab": {
          "base_uri": "https://localhost:8080/",
          "height": 293
        },
        "outputId": "3473a3a1-b2f8-48b3-f585-9cd8ccee2d83"
      },
      "source": [
        "best_C = 1\n",
        "regu = [0.01, 0.1, 1, 10, 100]\n",
        "max_validation_score = 0\n",
        "for c in regu:\n",
        "  reg = SVR(kernel = best_kernel, C = c)\n",
        "  reg.fit(training_set, training_labels[:, 5])\n",
        "\n",
        "  training_preds = reg.predict(training_set)\n",
        "  validation_preds = reg.predict(validation_set)\n",
        "\n",
        "  validation_score = 1-mean_absolute_error(validation_labels[:, 5], validation_preds)\n",
        "\n",
        "  print(\"Training score \" + str(1-mean_absolute_error(training_labels[:, 5], training_preds)))\n",
        "  print(\"Validation score \" + str(validation_score))\n",
        "  print(\"----------------------------------------------\")\n",
        "\n",
        "  if(validation_score > max_validation_score):\n",
        "    best_C = c\n",
        "    max_validation_score = validation_score"
      ],
      "execution_count": 32,
      "outputs": [
        {
          "output_type": "stream",
          "text": [
            "Training score 0.8847502235895642\n",
            "Validation score 0.8829206930106878\n",
            "----------------------------------------------\n",
            "Training score 0.9062611738089204\n",
            "Validation score 0.8832059981079918\n",
            "----------------------------------------------\n",
            "Training score 0.9241835637517477\n",
            "Validation score 0.8808185501883423\n",
            "----------------------------------------------\n",
            "Training score 0.924357385685793\n",
            "Validation score 0.87837782171519\n",
            "----------------------------------------------\n",
            "Training score 0.9242242059128133\n",
            "Validation score 0.8776862349756704\n",
            "----------------------------------------------\n"
          ],
          "name": "stdout"
        }
      ]
    },
    {
      "cell_type": "markdown",
      "metadata": {
        "colab_type": "text",
        "id": "EtxbkPl0KHik"
      },
      "source": [
        "## Test score SVR"
      ]
    },
    {
      "cell_type": "code",
      "metadata": {
        "colab_type": "code",
        "id": "BX4d1ZSNKHin",
        "colab": {
          "base_uri": "https://localhost:8080/",
          "height": 54
        },
        "outputId": "8cd187df-4eee-4b40-8a61-2b0be99ce73e"
      },
      "source": [
        "reg = SVR(kernel = best_kernel, C = best_C)\n",
        "reg.fit(np.concatenate((training_set, validation_set), axis = 0), np.concatenate((training_labels[:, 5], validation_labels[:, 5])))\n",
        "\n",
        "testing_preds = reg.predict(testing_set)\n",
        "\n",
        "testing_score = 1-mean_absolute_error(testing_labels[:, 5], testing_preds)\n",
        "\n",
        "print(\"Test score \" + str(testing_score))\n",
        "print(\"----------------------------------------------\")"
      ],
      "execution_count": 33,
      "outputs": [
        {
          "output_type": "stream",
          "text": [
            "Test score 0.8815757200688404\n",
            "----------------------------------------------\n"
          ],
          "name": "stdout"
        }
      ]
    },
    {
      "cell_type": "code",
      "metadata": {
        "colab_type": "code",
        "id": "8yR6hIGKKHit",
        "colab": {}
      },
      "source": [
        ""
      ],
      "execution_count": 0,
      "outputs": []
    }
  ]
}